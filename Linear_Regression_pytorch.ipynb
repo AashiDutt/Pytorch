{
  "nbformat": 4,
  "nbformat_minor": 0,
  "metadata": {
    "colab": {
      "name": "Linear_Regression_pytorch.ipynb",
      "version": "0.3.2",
      "provenance": [],
      "collapsed_sections": [],
      "include_colab_link": true
    },
    "kernelspec": {
      "name": "python3",
      "display_name": "Python 3"
    }
  },
  "cells": [
    {
      "cell_type": "markdown",
      "metadata": {
        "id": "view-in-github",
        "colab_type": "text"
      },
      "source": [
        "<a href=\"https://colab.research.google.com/github/AashiDutt/Pytorch/blob/master/Linear_Regression_pytorch.ipynb\" target=\"_parent\"><img src=\"https://colab.research.google.com/assets/colab-badge.svg\" alt=\"Open In Colab\"/></a>"
      ]
    },
    {
      "cell_type": "code",
      "metadata": {
        "id": "_tw3RbTg5lY4",
        "colab_type": "code",
        "colab": {}
      },
      "source": [
        "# This repository contains code for Lnear regression using pytorch"
      ],
      "execution_count": 0,
      "outputs": []
    },
    {
      "cell_type": "code",
      "metadata": {
        "id": "nuI0TjPcNlAy",
        "colab_type": "code",
        "outputId": "27f53c27-2211-4e1a-9924-966d17fb5ae3",
        "colab": {
          "base_uri": "https://localhost:8080/",
          "height": 70
        }
      },
      "source": [
        " !pip3 install torch"
      ],
      "execution_count": 2,
      "outputs": [
        {
          "output_type": "stream",
          "text": [
            "Requirement already satisfied: torch in /usr/local/lib/python3.6/dist-packages (1.1.0)\n",
            "Requirement already satisfied: numpy in /usr/local/lib/python3.6/dist-packages (from torch) (1.16.4)\n"
          ],
          "name": "stdout"
        }
      ]
    },
    {
      "cell_type": "code",
      "metadata": {
        "id": "pjwF5WT-N_Ae",
        "colab_type": "code",
        "colab": {}
      },
      "source": [
        "import torch"
      ],
      "execution_count": 0,
      "outputs": []
    },
    {
      "cell_type": "markdown",
      "metadata": {
        "id": "gFlLEzpFOVg5",
        "colab_type": "text"
      },
      "source": [
        "### 1. create a dataset that will follow a linear pattern.\n",
        "\n",
        "### 2.then draw a line that will incorrectly fit our      dataset.\n",
        "\n",
        "### 3. use gradient descent to optimize/ minimize the error function and continue to do so until our  model is trained to fit our data well."
      ]
    },
    {
      "cell_type": "code",
      "metadata": {
        "id": "Vnte-AE8OVQj",
        "colab_type": "code",
        "colab": {}
      },
      "source": [
        "# initializing variables\n",
        "\n",
        "w = torch.tensor(3.0,requires_grad=True)\n",
        "b = torch.tensor(1.0,requires_grad=True)\n",
        "\n"
      ],
      "execution_count": 0,
      "outputs": []
    },
    {
      "cell_type": "code",
      "metadata": {
        "id": "eawQzDs1QVyj",
        "colab_type": "code",
        "colab": {}
      },
      "source": [
        "def forward(x):    # function to compute line y\n",
        "  y = w*x + b   # output = weights*inputs + biases\n",
        "\n",
        "# w = slope  b = intercept\n",
        "# we use datapoints to optimize values of weights and biases\n",
        "  return y"
      ],
      "execution_count": 0,
      "outputs": []
    },
    {
      "cell_type": "code",
      "metadata": {
        "id": "6DxIXypCQ1IJ",
        "colab_type": "code",
        "outputId": "cf9f77ba-dafa-4feb-c3ba-e53ae914b551",
        "colab": {
          "base_uri": "https://localhost:8080/",
          "height": 50
        }
      },
      "source": [
        "# defining x\n",
        "\n",
        "x = torch.tensor([[4],[7]])\n",
        "forward(x)"
      ],
      "execution_count": 6,
      "outputs": [
        {
          "output_type": "execute_result",
          "data": {
            "text/plain": [
              "tensor([[13],\n",
              "        [22]], grad_fn=<AddBackward0>)"
            ]
          },
          "metadata": {
            "tags": []
          },
          "execution_count": 6
        }
      ]
    },
    {
      "cell_type": "code",
      "metadata": {
        "id": "_EQYLRbgQ9NY",
        "colab_type": "code",
        "colab": {}
      },
      "source": [
        "# initializing a linear class\n",
        "\n",
        "from torch.nn import Linear"
      ],
      "execution_count": 0,
      "outputs": []
    },
    {
      "cell_type": "code",
      "metadata": {
        "id": "E8Pf_J8qTKJk",
        "colab_type": "code",
        "outputId": "1688eab0-5249-4082-f4e6-9b1ed83859a0",
        "colab": {
          "base_uri": "https://localhost:8080/",
          "height": 34
        }
      },
      "source": [
        "torch.manual_seed(1) # sets a seed for generating random numbers"
      ],
      "execution_count": 8,
      "outputs": [
        {
          "output_type": "execute_result",
          "data": {
            "text/plain": [
              "<torch._C.Generator at 0x7f0ee790c950>"
            ]
          },
          "metadata": {
            "tags": []
          },
          "execution_count": 8
        }
      ]
    },
    {
      "cell_type": "markdown",
      "metadata": {
        "id": "rsVFr1qlYdep",
        "colab_type": "text"
      },
      "source": [
        "# creating a linear model"
      ]
    },
    {
      "cell_type": "code",
      "metadata": {
        "id": "r2u9U2RoT8De",
        "colab_type": "code",
        "outputId": "32f082c7-a4c5-432d-a75e-53df76bf3ade",
        "colab": {
          "base_uri": "https://localhost:8080/",
          "height": 67
        }
      },
      "source": [
        "model = Linear(in_features = 1, out_features =1)  # for each output there is a single input\n",
        "\n",
        "# printing parameters of linear model\n",
        "print(model.bias,model.weight)"
      ],
      "execution_count": 9,
      "outputs": [
        {
          "output_type": "stream",
          "text": [
            "Parameter containing:\n",
            "tensor([-0.4414], requires_grad=True) Parameter containing:\n",
            "tensor([[0.5153]], requires_grad=True)\n"
          ],
          "name": "stdout"
        }
      ]
    },
    {
      "cell_type": "code",
      "metadata": {
        "id": "WwEY3wZNU1jS",
        "colab_type": "code",
        "colab": {}
      },
      "source": [
        " x = torch.tensor([[2.0],[3.3]])\n",
        " "
      ],
      "execution_count": 0,
      "outputs": []
    },
    {
      "cell_type": "code",
      "metadata": {
        "id": "WE2j_oVsVxEt",
        "colab_type": "code",
        "outputId": "4b27b8a1-563b-43b8-f8ed-d0c13b4d4f37",
        "colab": {
          "base_uri": "https://localhost:8080/",
          "height": 50
        }
      },
      "source": [
        "print(model(x))"
      ],
      "execution_count": 11,
      "outputs": [
        {
          "output_type": "stream",
          "text": [
            "tensor([[0.5891],\n",
            "        [1.2590]], grad_fn=<AddmmBackward>)\n"
          ],
          "name": "stdout"
        }
      ]
    },
    {
      "cell_type": "code",
      "metadata": {
        "id": "pvTCPjJjV9_J",
        "colab_type": "code",
        "colab": {}
      },
      "source": [
        "import torch.nn as nn\n",
        "import matplotlib.pyplot as plt\n",
        "import numpy as np"
      ],
      "execution_count": 0,
      "outputs": []
    },
    {
      "cell_type": "code",
      "metadata": {
        "id": "nstdTZPwebYb",
        "colab_type": "code",
        "outputId": "02b07f7a-0bab-4e4d-e9ea-8990bfe68f6c",
        "colab": {
          "base_uri": "https://localhost:8080/",
          "height": 300
        }
      },
      "source": [
        "# creating dataset \n",
        "# randn(no. of rows, no. od column)returns a tensor filled with random numbers which are normally distributed\n",
        "\n",
        "x = torch.randn(100,1)*10\n",
        "y = x + 3*(torch.randn(100,1))  # adding noise and multiplying 3 to space out the points\n",
        "plt.plot(x.numpy(),y.numpy(),'o')\n",
        "plt.ylabel('y')\n",
        "plt.xlabel('x')"
      ],
      "execution_count": 13,
      "outputs": [
        {
          "output_type": "execute_result",
          "data": {
            "text/plain": [
              "Text(0.5, 0, 'x')"
            ]
          },
          "metadata": {
            "tags": []
          },
          "execution_count": 13
        },
        {
          "output_type": "display_data",
          "data": {
            "image/png": "[encoded data removed]",
            "text/plain": [
              "<Figure size 432x288 with 1 Axes>"
            ]
          },
          "metadata": {
            "tags": []
          }
        }
      ]
    },
    {
      "cell_type": "markdown",
      "metadata": {
        "id": "iwYFyHIdYX-4",
        "colab_type": "text"
      },
      "source": [
        "# creating a linear regression class\n"
      ]
    },
    {
      "cell_type": "code",
      "metadata": {
        "id": "3bOZ-6IMW5Mg",
        "colab_type": "code",
        "colab": {}
      },
      "source": [
        "\n",
        "# Module is the base class for all neural n/w modules\n",
        "#class LR will inherint methods and variables from this subclass\n",
        "# use \"super()\" for inheritance\n",
        "\n",
        "class LR(nn.Module):\n",
        "  def __init__(self , input_size, output_size):  # constructor\n",
        "    super().__init__()\n",
        "    self.linear = nn.Linear(input_size,output_size) # instance of class LR\n",
        "    \n",
        "# make use of forward method for PREDICTIONS   \n",
        "  def forward(self,x):\n",
        "    pred = self.linear(x)\n",
        "    return pred\n",
        "   \n",
        "    \n"
      ],
      "execution_count": 0,
      "outputs": []
    },
    {
      "cell_type": "code",
      "metadata": {
        "id": "3v5iYf1lYQnV",
        "colab_type": "code",
        "outputId": "12ade6fb-d7bd-4b04-97f2-6fbcf582094c",
        "colab": {
          "base_uri": "https://localhost:8080/",
          "height": 67
        }
      },
      "source": [
        "torch.manual_seed(1)  # used to seek consistant results\n",
        "model = LR(1,1)  # LR(input_size,output_size)\n",
        "print(model)\n",
        "#print(list(model.parameters()))"
      ],
      "execution_count": 15,
      "outputs": [
        {
          "output_type": "stream",
          "text": [
            "LR(\n",
            "  (linear): Linear(in_features=1, out_features=1, bias=True)\n",
            ")\n"
          ],
          "name": "stdout"
        }
      ]
    },
    {
      "cell_type": "code",
      "metadata": {
        "id": "NZE_p231Zu5c",
        "colab_type": "code",
        "colab": {}
      },
      "source": [
        "#x = torch.tensor(([1.0],[2.0]))\n",
        "#print(model.forward(x))"
      ],
      "execution_count": 0,
      "outputs": []
    },
    {
      "cell_type": "code",
      "metadata": {
        "id": "OnjA0ma3cAVF",
        "colab_type": "code",
        "colab": {}
      },
      "source": [
        "[w ,b] = model.parameters()\n",
        "\n",
        "#print(w,b)\n",
        "#w1 =w[0][0].item()  # weight is a 2D tensor w[row][column]\n",
        "#b1 = b[0].item()    # bias is a 1D tensor\n",
        "#print(w1,b1)\n",
        "\n",
        "def get_params():\n",
        "  return (w[0][0].item(),b[0].item())   # return two values as a tuple"
      ],
      "execution_count": 0,
      "outputs": []
    },
    {
      "cell_type": "markdown",
      "metadata": {
        "id": "pKHG5d2KoDzQ",
        "colab_type": "text"
      },
      "source": [
        "### Plotting best Fit Line to our dataset"
      ]
    },
    {
      "cell_type": "code",
      "metadata": {
        "id": "WL4U9Uz5hBQF",
        "colab_type": "code",
        "colab": {}
      },
      "source": [
        "def plot_fit():\n",
        "  #plt.title =title\n",
        "  w1 ,b1 = get_params()\n",
        "  x1 = np.array([-30,30])  # always an array for compatibility with pyplot\n",
        "  y1 = x1*w1 +b1   # returns 2 y1 points at -30 and 30\n",
        "  \n",
        "  plt.plot(x1,y1,'r')\n",
        "  plt.scatter(x,y)\n",
        "  plt.show()"
      ],
      "execution_count": 0,
      "outputs": []
    },
    {
      "cell_type": "code",
      "metadata": {
        "id": "NqkCtQUPjtGY",
        "colab_type": "code",
        "outputId": "30197b9e-2389-4b69-8cd3-e82091d9c700",
        "colab": {
          "base_uri": "https://localhost:8080/",
          "height": 269
        }
      },
      "source": [
        "plot_fit()"
      ],
      "execution_count": 19,
      "outputs": [
        {
          "output_type": "display_data",
          "data": {
            "image/png": "[encoded data removed]",
            "text/plain": [
              "<Figure size 432x288 with 1 Axes>"
            ]
          },
          "metadata": {
            "tags": []
          }
        }
      ]
    },
    {
      "cell_type": "markdown",
      "metadata": {
        "id": "dmKXMdsWn7az",
        "colab_type": "text"
      },
      "source": [
        "### UNDERSTADING LOSS FUNCTION\n",
        "\n",
        "### loss = actual - predicted value\n",
        " \n",
        " loss =  ( y - y^ )^2\n",
        " \n",
        " loss = ( y - ( w * x + b ))^2\n",
        " \n",
        " if b = 0 \n",
        " loss = ( y - w * x )^2\n",
        " \n",
        "there exist optimal weight value that will yields minimun loss value\n",
        "\n",
        "let actual coordinates = (-3,3)\n",
        "loss = 3 -w(-3)\n",
        "\n",
        "optimal value of w = -1\n",
        "loss = 3+(-3) = 0"
      ]
    },
    {
      "cell_type": "markdown",
      "metadata": {
        "id": "9QNcImW_siqg",
        "colab_type": "text"
      },
      "source": [
        "## GRADIENT DESCENT\n",
        "\n",
        "how to train a model to predict the most optimal value for the weights eg w = -1"
      ]
    },
    {
      "cell_type": "code",
      "metadata": {
        "id": "7WNcLWmJn7Iv",
        "colab_type": "code",
        "colab": {}
      },
      "source": [
        "# Loss function\n",
        "criterion = nn.MSELoss()\n",
        "\n",
        "# optimizer - stochastic gradient descent\n",
        "#updates the parameters much faster than batch gradient descent\n",
        "\n",
        "optimizer = torch.optim.SGD(model.parameters(),lr =0.001)\n",
        "\n",
        "\n"
      ],
      "execution_count": 0,
      "outputs": []
    },
    {
      "cell_type": "code",
      "metadata": {
        "id": "ZwVwMWPMjyF3",
        "colab_type": "code",
        "colab": {
          "base_uri": "https://localhost:8080/",
          "height": 1000
        },
        "outputId": "530e71f4-a02f-4be2-ee43-331b5ab45e2e"
      },
      "source": [
        "#One Epoch is when an ENTIRE dataset is passed forward and backward\n",
        "#through the neural network only ONCE\n",
        "\n",
        "# optimizer is set to zero_grad because every time a variable is \n",
        "#back propogated through, the gradient will be accumulated instead of\n",
        "#being replaced.because each module will be back propogated through several times.)\n",
        "\n",
        "#optimizer.step() is performs a parameter update based on the current gradient\n",
        "#(stored in .grad attribute of a parameter)\n",
        "\n",
        "epochs = 100\n",
        "losses=[]\n",
        "for i in range(epochs):\n",
        "  y_pred = model.forward(x)\n",
        "  loss = criterion(y_pred,y)\n",
        "  print(\"epoch:\",i,\"loss:\",loss.item())\n",
        "  losses.append(loss)\n",
        "  \n",
        "  optimizer.zero_grad()  \n",
        "  \n",
        "  loss.backward()    # take derivative of loss function\n",
        "  optimizer.step()"
      ],
      "execution_count": 34,
      "outputs": [
        {
          "output_type": "stream",
          "text": [
            "epoch: 0 loss: 36695166976.0\n",
            "epoch: 1 loss: 22747955200.0\n",
            "epoch: 2 loss: 14101842944.0\n",
            "epoch: 3 loss: 8741970944.0\n",
            "epoch: 4 loss: 5419295232.0\n",
            "epoch: 5 loss: 3359512832.0\n",
            "epoch: 6 loss: 2082618752.0\n",
            "epoch: 7 loss: 1291050624.0\n",
            "epoch: 8 loss: 800344192.0\n",
            "epoch: 9 loss: 496146880.0\n",
            "epoch: 10 loss: 307569856.0\n",
            "epoch: 11 loss: 190667792.0\n",
            "epoch: 12 loss: 118198184.0\n",
            "epoch: 13 loss: 73273064.0\n",
            "epoch: 14 loss: 45423216.0\n",
            "epoch: 15 loss: 28158624.0\n",
            "epoch: 16 loss: 17456010.0\n",
            "epoch: 17 loss: 10821280.0\n",
            "epoch: 18 loss: 6708297.0\n",
            "epoch: 19 loss: 4158590.5\n",
            "epoch: 20 loss: 2577983.5\n",
            "epoch: 21 loss: 1598138.75\n",
            "epoch: 22 loss: 990716.375\n",
            "epoch: 23 loss: 614165.0\n",
            "epoch: 24 loss: 380734.5\n",
            "epoch: 25 loss: 236026.953125\n",
            "epoch: 26 loss: 146320.28125\n",
            "epoch: 27 loss: 90709.59375\n",
            "epoch: 28 loss: 56235.59765625\n",
            "epoch: 29 loss: 34864.58203125\n",
            "epoch: 30 loss: 21616.333984375\n",
            "epoch: 31 loss: 13403.5185546875\n",
            "epoch: 32 loss: 8312.2587890625\n",
            "epoch: 33 loss: 5156.0986328125\n",
            "epoch: 34 loss: 3199.541259765625\n",
            "epoch: 35 loss: 1986.63916015625\n",
            "epoch: 36 loss: 1234.7403564453125\n",
            "epoch: 37 loss: 768.6256103515625\n",
            "epoch: 38 loss: 479.67303466796875\n",
            "epoch: 39 loss: 300.5465393066406\n",
            "epoch: 40 loss: 189.5029754638672\n",
            "epoch: 41 loss: 120.66519927978516\n",
            "epoch: 42 loss: 77.99149322509766\n",
            "epoch: 43 loss: 51.53733444213867\n",
            "epoch: 44 loss: 35.1379508972168\n",
            "epoch: 45 loss: 24.971691131591797\n",
            "epoch: 46 loss: 18.66945457458496\n",
            "epoch: 47 loss: 14.762585639953613\n",
            "epoch: 48 loss: 12.340651512145996\n",
            "epoch: 49 loss: 10.839248657226562\n",
            "epoch: 50 loss: 9.908503532409668\n",
            "epoch: 51 loss: 9.331515312194824\n",
            "epoch: 52 loss: 8.973828315734863\n",
            "epoch: 53 loss: 8.752089500427246\n",
            "epoch: 54 loss: 8.614625930786133\n",
            "epoch: 55 loss: 8.52940845489502\n",
            "epoch: 56 loss: 8.476578712463379\n",
            "epoch: 57 loss: 8.443825721740723\n",
            "epoch: 58 loss: 8.423518180847168\n",
            "epoch: 59 loss: 8.410927772521973\n",
            "epoch: 60 loss: 8.403120040893555\n",
            "epoch: 61 loss: 8.398277282714844\n",
            "epoch: 62 loss: 8.395272254943848\n",
            "epoch: 63 loss: 8.393406867980957\n",
            "epoch: 64 loss: 8.392248153686523\n",
            "epoch: 65 loss: 8.39152717590332\n",
            "epoch: 66 loss: 8.391077995300293\n",
            "epoch: 67 loss: 8.390796661376953\n",
            "epoch: 68 loss: 8.390620231628418\n",
            "epoch: 69 loss: 8.390508651733398\n",
            "epoch: 70 loss: 8.390437126159668\n",
            "epoch: 71 loss: 8.390389442443848\n",
            "epoch: 72 loss: 8.390358924865723\n",
            "epoch: 73 loss: 8.390336036682129\n",
            "epoch: 74 loss: 8.39031982421875\n",
            "epoch: 75 loss: 8.390307426452637\n",
            "epoch: 76 loss: 8.390297889709473\n",
            "epoch: 77 loss: 8.390289306640625\n",
            "epoch: 78 loss: 8.390281677246094\n",
            "epoch: 79 loss: 8.390275001525879\n",
            "epoch: 80 loss: 8.390267372131348\n",
            "epoch: 81 loss: 8.390260696411133\n",
            "epoch: 82 loss: 8.390254974365234\n",
            "epoch: 83 loss: 8.39024829864502\n",
            "epoch: 84 loss: 8.390241622924805\n",
            "epoch: 85 loss: 8.390235900878906\n",
            "epoch: 86 loss: 8.390230178833008\n",
            "epoch: 87 loss: 8.390223503112793\n",
            "epoch: 88 loss: 8.390218734741211\n",
            "epoch: 89 loss: 8.390212059020996\n",
            "epoch: 90 loss: 8.390206336975098\n",
            "epoch: 91 loss: 8.3902006149292\n",
            "epoch: 92 loss: 8.390193939208984\n",
            "epoch: 93 loss: 8.390188217163086\n",
            "epoch: 94 loss: 8.390182495117188\n",
            "epoch: 95 loss: 8.390176773071289\n",
            "epoch: 96 loss: 8.39017105102539\n",
            "epoch: 97 loss: 8.390164375305176\n",
            "epoch: 98 loss: 8.390159606933594\n",
            "epoch: 99 loss: 8.390152931213379\n"
          ],
          "name": "stdout"
        }
      ]
    },
    {
      "cell_type": "code",
      "metadata": {
        "id": "13JlD05H5jYG",
        "colab_type": "code",
        "outputId": "f8c746ce-ff7c-419e-f6e9-2b3da6f61638",
        "colab": {
          "base_uri": "https://localhost:8080/",
          "height": 306
        }
      },
      "source": [
        "plt.plot(range(epochs),losses)\n",
        "plt.ylabel('loss')\n",
        "plt.xlabel('epoch')"
      ],
      "execution_count": 35,
      "outputs": [
        {
          "output_type": "execute_result",
          "data": {
            "text/plain": [
              "Text(0.5, 0, 'epoch')"
            ]
          },
          "metadata": {
            "tags": []
          },
          "execution_count": 35
        },
        {
          "output_type": "display_data",
          "data": {
            "image/png": "[encoded data removed]",
            "text/plain": [
              "<Figure size 432x288 with 1 Axes>"
            ]
          },
          "metadata": {
            "tags": []
          }
        }
      ]
    },
    {
      "cell_type": "code",
      "metadata": {
        "id": "10MAoCaI55KI",
        "colab_type": "code",
        "outputId": "42597111-2c5b-4640-e864-a1943c383e0e",
        "colab": {
          "base_uri": "https://localhost:8080/",
          "height": 269
        }
      },
      "source": [
        "plot_fit()"
      ],
      "execution_count": 36,
      "outputs": [
        {
          "output_type": "display_data",
          "data": {
            "image/png": "[encoded data removed]",
            "text/plain": [
              "<Figure size 432x288 with 1 Axes>"
            ]
          },
          "metadata": {
            "tags": []
          }
        }
      ]
    }
  ]
}