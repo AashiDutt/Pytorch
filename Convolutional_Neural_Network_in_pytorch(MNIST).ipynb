{
  "nbformat": 4,
  "nbformat_minor": 0,
  "metadata": {
    "colab": {
      "name": "Convolutional_Neural_Network_in_pytorch(MNIST).ipynb",
      "version": "0.3.2",
      "provenance": [],
      "collapsed_sections": [],
      "include_colab_link": true
    },
    "kernelspec": {
      "name": "python3",
      "display_name": "Python 3"
    },
    "accelerator": "GPU"
  },
  "cells": [
    {
      "cell_type": "markdown",
      "metadata": {
        "id": "view-in-github",
        "colab_type": "text"
      },
      "source": [
        "<a href=\"https://colab.research.google.com/github/AashiDutt/Pytorch/blob/master/Convolutional_Neural_Network_in_pytorch(MNIST).ipynb\" target=\"_parent\"><img src=\"https://colab.research.google.com/assets/colab-badge.svg\" alt=\"Open In Colab\"/></a>"
      ]
    },
    {
      "cell_type": "markdown",
      "metadata": {
        "id": "My8kcJErCyvc",
        "colab_type": "text"
      },
      "source": [
        "### Deep Neural Network have two restrictions\n",
        "\n",
        "1.When number of inputs increase as in case of a RGB image having 72 X 72 pixels multiplied by 3( for 3 layer pixels ) = 15552 inputs then computation becomes difficult.\n",
        "\n",
        "2.Another drawback of using regular Neural Networks was over fitting which occurs when a model tailor\n",
        "\n",
        "is itself a very closely to the data that it has been trained on reducing its ability to pinpoint generalized\n",
        "\n",
        "features of test data sets that it hasn't seen before .\n",
        "\n",
        "\n",
        "### SOLUTION : \n",
        "\n",
        "Using Convolutional Neural Network we can make use of ''Pooling Layers'' which act continuously to reduce number of parameters(inputs to neural N/w) \n",
        "\n",
        "\n",
        "\n",
        "**Layers of CNN**\n",
        "\n",
        "1.Convolutional layers\n",
        "2.Pooling Layers\n",
        "3.Fully Connected Layers\n",
        "\n",
        "\n",
        "In between the input and output layers we have a series of convolution and pooling operations followed by the fully connected layers.\n",
        "\n",
        "**Primary goal of Convolutional Layer ** is to extract and learn specific image features that can help in classifying the image.\n",
        "\n",
        "each input to convolutional layer are processed by a convolutional filter called **Kernel Matrix** inside convolutional layer to perform kernel convolution.\n",
        "\n",
        "Kernel Convolution - slide a kernel martix over the image.\n",
        "\n",
        "the amount by which kernel moves over an image is called a Stride .eg if stride =1 , the kernel moves 1 pixel at a time. The area where the operation takes place is called the receptive field whose dimensions = size of the kernel (eg 3X3 )\n",
        "\n",
        "Kernel operation= multiply each no. of resceptive field with corresponding no. in the kernel. \n",
        "\n",
        "example \n",
        "\n",
        "**STEP 1** : Receptive field(inputs) = \n",
        "\n",
        "100   100  255\n",
        "\n",
        "100   100  255\n",
        "\n",
        "100   100  255\n",
        "\n",
        "**STEP 2** : Kernel(filter) Matrix =\n",
        "\n",
        "0   -1    0\n",
        "\n",
        "-1   5    -1\n",
        "\n",
        "0    -1    0\n",
        "\n",
        "**STEP 3**:  Multiply =(100*0) +(100*-1) +(255*0)+(100*-1)+(100*5) +(255*-1)+ (100*0) +(100 *-1)+(255*0)\n",
        "\n",
        "=-55\n",
        "\n",
        "**STEP 4:**  taking average = sum/no. of elements of kernel\n",
        " = -55/9 = -6.1\n",
        " \n",
        "**STEP 5**:   place the average in** feature map ** used to extract and learn specific image features to help classify image  and shift by Stride to cover entire image\n",
        "\n",
        "\n",
        "**Feature map contains  specific feature of interest which was extracted from orignal image.**\n",
        "\n",
        "**Kernel is a Feature** **detector**.\n",
        "Each kernel has distinctive set of weights.\n",
        "\n",
        "Kernel learns weight during training by gradient descent algorithm.\n",
        "\n",
        "different filters are able to detect different features from an image ,more filters we have , more features we can extract from an image\n",
        "\n",
        "when dealing with 3D image , the kernel should also be 3 dimensional.(DEPTH OF KERNEL MUST MATCH DEPTH OF THE IMAGE)\n",
        "\n",
        "\n",
        "**WORKING ON RGB IMAGE**\n",
        "\n",
        "an  R.G.B. image 72 X72 corresponding to roughly 5000 pixels.\n",
        "\n",
        "And again since we're dealing with three channel colored image we're each pixel corresponds to three\n",
        "pixel intensities resulting in roughly fifteen thousand input nodes.(72 x 72 x3 =15,552)\n",
        "\n",
        "And as such each node in the hidden layer would contain fifteen thousand whites roughly fifteen thousand.\n",
        "\n",
        "If we were to add even more nodes in the hidden layer then there just wouldn't be sufficient computational power to run the neural network since each node and that hidden layer is parameter rise by roughly fifteen thousand inmates.\n",
        "\n",
        "The more we add the more weights the more parameters that need to be updated during the training process whereas with convolution all neural networks every note in the hidden layer is only connected to a smaller region of the input volume.\n",
        "\n",
        "[To put this into perspective if we had the same exact image with a kernel and a corresponding 3X3 a receptive field this makes for nine weights and to account for the depth of the volume since\n",
        "\n",
        "this would be a three channel colored image the nine by three would correspond to each kernel only having a total of twenty seven weights each.]\n",
        "\n",
        "example: \n",
        "\n",
        "receptive field = 3X3 = kernel size \n",
        "=> 9 elements input = 9 weights \n",
        "for 3 channels (depth) => total weights = 9*3 =27\n",
        "(weight for each node at hidden layer)\n",
        "\n",
        "**STEP 6**:  After getting feature map ,apply Relu Activation function for FILTERING\n",
        "\n",
        "Q:  Why apply relu ?\n",
        " to overcome problem of **vanishing gradient**\n",
        " (returns gradient value =0 if input is -tive and if input is +tive then returns the same value as output)\n",
        " converts all negative values in image to zero.\n",
        " \n",
        "** vanishing gradient** - decreased feed forward gradient within deep neural network.\n",
        " \n",
        " if gradient is too small or vanishes then network cannot make use of gradient descent to update weights quickly, i.e learning slows down.\n",
        " \n",
        "Q: why not use sigmoid function - because its derivative becomes zero at tails\n",
        "\n",
        "**STEP 7** : POOLING\n",
        "\n",
        "the pooling layer acts to shrink the image stack by reducing the dimensionality of the representation of each feature map thereby\n",
        "\n",
        "also reducing the computational complexity of the model although it retains the most important information\n",
        "\n",
        "such that our a feature of interest is still consistent with its feature map.\n",
        "\n",
        "# Pooling operations-\n",
        "\n",
        "sum , average , max pooling\n",
        "\n",
        "max_pooling - reports max. output within a rectangular neighbourhood.\n",
        "\n",
        "take a kernel of dimension 2X2 and move it through out the image such that it takes only the max value in the neighbourhood(stride = 2)\n",
        "\n",
        "- scales down the feature map size to only accountable max values\n",
        "\n",
        "\n",
        "**why pooling -**\n",
        "\n",
        "reduces computational cost\n",
        "\n",
        "reduces the chances of overfitting by providing abrstracted form of orignal feature map.\n",
        "\n",
        "but still maintains major features\n",
        "\n",
        "\n",
        "** we can have multiple convolutional and pooling layers**\n",
        "\n",
        " ** the more deeper we go the more unrecognizable feature maps become**\n",
        "\n",
        "\n",
        "# Visualising working of CNN \n",
        "\n",
        "http://scs.ryerson.ca/~aharley/vis/conv/\n",
        "\n",
        "\n",
        "**STEP 8**: FULLY CONNECTED LAYERS (multi layer perceptron which updates its weights and biases to minimize total error function using gradient descent)\n",
        "\n",
        "1.flattern the feature maps into 1D array of pixels before feeding them to the input layer of fully connected layer where each pixel corresponds to a node in the input layer.\n",
        "\n",
        "2.The fully connected neural network is responsible in taking these flatterned features as inputs processing them\n",
        "to obtain a final probability as to what class the image belongs to. \n",
        "\n",
        "[therefore we can say that 1st part of convolution is in charge of feature extraction  while 2nd part is incharge of classification. ]\n",
        "\n",
        "\n",
        "3.if the prediction is wrong then we use cross entropy to calculate the error and correct it by updating weights and bias values(using gradient descent) for all filters in the CNN network using Backpropagation.\n",
        "\n",
        "\n",
        "## PADDING\n",
        " \n",
        " adding extra border to the image in order to preserve the image size after kernel convolution.\n",
        " \n",
        "\n"
      ]
    },
    {
      "cell_type": "code",
      "metadata": {
        "id": "6PcbiB2UOqfX",
        "colab_type": "code",
        "outputId": "20bec4bf-74c6-43e2-9279-215d8558cd57",
        "colab": {
          "base_uri": "https://localhost:8080/",
          "height": 138
        }
      },
      "source": [
        "# CODE\n",
        "\n",
        "# Loading Images and Transforms\n",
        "\n",
        "!pip3 install torch torchvision"
      ],
      "execution_count": 0,
      "outputs": [
        {
          "output_type": "stream",
          "text": [
            "Requirement already satisfied: torch in /usr/local/lib/python3.6/dist-packages (1.1.0)\n",
            "Requirement already satisfied: torchvision in /usr/local/lib/python3.6/dist-packages (0.3.0)\n",
            "Requirement already satisfied: numpy in /usr/local/lib/python3.6/dist-packages (from torch) (1.16.4)\n",
            "Requirement already satisfied: six in /usr/local/lib/python3.6/dist-packages (from torchvision) (1.12.0)\n",
            "Requirement already satisfied: pillow>=4.1.1 in /usr/local/lib/python3.6/dist-packages (from torchvision) (4.3.0)\n",
            "Requirement already satisfied: olefile in /usr/local/lib/python3.6/dist-packages (from pillow>=4.1.1->torchvision) (0.46)\n"
          ],
          "name": "stdout"
        }
      ]
    },
    {
      "cell_type": "code",
      "metadata": {
        "id": "1_g2ZOBgkA9z",
        "colab_type": "code",
        "colab": {}
      },
      "source": [
        "import torch\n",
        "from torchvision import datasets, transforms\n",
        "\n",
        "# transformations are used to preprocess the dataset before it is fed to neural network\n",
        "from torch import nn\n",
        "import torch.nn.functional as F\n",
        "import matplotlib.pyplot as plt\n",
        "import numpy as np"
      ],
      "execution_count": 0,
      "outputs": []
    },
    {
      "cell_type": "code",
      "metadata": {
        "id": "TwwnIe_81vYy",
        "colab_type": "code",
        "colab": {}
      },
      "source": [
        "# making use of Colab GPU using Cuda\n",
        "# Runtime -->Change runtime type--> Hardware --> GPU\n",
        "\n",
        "device = torch.device(\"cuda:0\" if torch.cuda.is_available() else \"cpu\")"
      ],
      "execution_count": 0,
      "outputs": []
    },
    {
      "cell_type": "code",
      "metadata": {
        "id": "wyRTM_c6kFw7",
        "colab_type": "code",
        "outputId": "bcbd0abb-bf3d-4fd1-9e58-3dc37a36961a",
        "colab": {
          "base_uri": "https://localhost:8080/",
          "height": 87
        }
      },
      "source": [
        "transform = transforms.Compose([transforms.Resize((28,28)),transforms.ToTensor(),transforms.Normalize((0.5,),(0.5,))])\n",
        "#Compose allows us to chain together transformations\n",
        "\n",
        "#we chose value 0.5 because we want values in range 0 to 1,creating a range (-1 to 1)\n",
        "\n",
        "# Normalizing the image \n",
        "# formula z = (x - mean)/ standard deviation\n",
        "# eg. (min value - mean)/standard deviation = (0-0.5)/0.5 = -1\n",
        "# (max value- mean)/sd = (1-0.5)/0.5 =1  therefore range = (-1,1)\n",
        "\n",
        "#Normalize((0.5,0.5,0.5),(0.5,0.5,0.5)) = Normalize(mean,standard deviation)\n",
        "#Normalize the value of each tensor of image size channel height and widthin 1st set of brackets\n",
        "#converts numpy array(of range 0-255) to tensor (a float tensor in range 0 to 1)\n",
        "\n",
        "# defining root directory of training_dataset\n",
        "training_dataset = datasets.MNIST(root ='./data', train = True, download = True,transform =transform )\n",
        "validation_dataset = datasets.MNIST(root ='./data', train = False, download = True,transform =transform )\n",
        "print(\"Length: \", len(validation_dataset.test_data))\n",
        "\n",
        "training_loader = torch.utils.data.DataLoader(dataset = training_dataset, batch_size = 100, shuffle = True)\n",
        "validation_loader =torch.utils.data.DataLoader(dataset = training_dataset, batch_size = 100, shuffle = False)"
      ],
      "execution_count": 0,
      "outputs": [
        {
          "output_type": "stream",
          "text": [
            "Length:  10000\n"
          ],
          "name": "stdout"
        },
        {
          "output_type": "stream",
          "text": [
            "/usr/local/lib/python3.6/dist-packages/torchvision/datasets/mnist.py:58: UserWarning: test_data has been renamed data\n",
            "  warnings.warn(\"test_data has been renamed data\")\n"
          ],
          "name": "stderr"
        }
      ]
    },
    {
      "cell_type": "code",
      "metadata": {
        "id": "YcYOOiYEkI87",
        "colab_type": "code",
        "colab": {}
      },
      "source": [
        "# to plot an image convert it again to a numpy array\n",
        "def im_convert(tensor):\n",
        "  image = tensor.cpu().clone().detach().numpy()\n",
        "  # clone to create new copy of tensor\n",
        "  # use detach function to call numpy\n",
        "  \n",
        "  image = image.transpose(1,2,0)\n",
        "  # we have shape of tensor as(1,28,28)(single colorchannel,shape(28,28)) but to plot a grayscale image we need tensor of shape (28,28,1)\n",
        "  # we swap axis using transpose means swap axis 0 for axis 1, axis 1 fo axis 2 and axis 0 in the end\n",
        "  #print(image.shape)\n",
        "  # denormalizing the image\n",
        "  # x=z * standard deviation + mean\n",
        "  \n",
        "  image = image *np.array((0.5,0.5,0.5)) + np.array((0.5,0.5,0.5))\n",
        "  image = image.clip(0,1)\n",
        "  # to reconvert range from (-1,1) to (1,1) we use clip function\n",
        "  return image\n"
      ],
      "execution_count": 0,
      "outputs": []
    },
    {
      "cell_type": "code",
      "metadata": {
        "id": "crKNm5jCkL5h",
        "colab_type": "code",
        "outputId": "7556ca25-9c6a-4e33-9881-299f39ce3133",
        "colab": {
          "base_uri": "https://localhost:8080/",
          "height": 288
        }
      },
      "source": [
        "# creating a iterator \n",
        "# iter creates an object that allows us to go through the iterable of training loader one element at a time \n",
        "dataiter = iter(training_loader)\n",
        "images , labels = dataiter.next()\n",
        "#images, labels = dataiter.next() # gets first batch of training data\n",
        "fig = plt.figure(figsize =(25,4))\n",
        "\n",
        "for idx in np.arange(20):\n",
        "  ax =fig.add_subplot(2,10,idx+1,xticks =[],yticks =[])   # 2 rows 10 columns per row and index\n",
        "  plt.imshow(im_convert(images[idx]))\n",
        "  ax.set_title(labels[idx].item())"
      ],
      "execution_count": 0,
      "outputs": [
        {
          "output_type": "display_data",
          "data": {
            "image/png": "[encoded data removed]",
            "text/plain": [
              "<Figure size 1800x288 with 20 Axes>"
            ]
          },
          "metadata": {
            "tags": []
          }
        }
      ]
    },
    {
      "cell_type": "code",
      "metadata": {
        "id": "H15HnymakOwS",
        "colab_type": "code",
        "colab": {}
      },
      "source": [
        "class LeNet(nn.Module): # classifying layer by layer\n",
        "  def __init__(self):\n",
        "    super().__init__()\n",
        "    \n",
        "    # Defining Convolutional Layers\n",
        "    self.conv1= nn.Conv2d(1, 20, 5, 1)  # Layer 1       \n",
        "    #Conv2d(no. of input channel(greyscale image),no. of outputchannel,kernel(filter)size,stride)\n",
        "    \n",
        "    self.conv2= nn.Conv2d(20, 50, 5, 1) # Layer 2   \n",
        "    \n",
        "    #Defining Fully Connected Layer\n",
        "    # size of image = 28X28 --> conv1 size = 24 x24 --> pooling(2x2) size=12x12\n",
        "    # -->conv2(5x5 kernel)  size = 8x8  --> pooling(2x2)  size = 4x4x(no. of output channels of preceesing layer)\n",
        "    self.fc1 = nn.Linear(4*4*50,500)    # Linear(input nodes,no. of output nodes)\n",
        "    \n",
        "    self.dropout1 = nn.Dropout(0.5)     # dropout layer to decreas chances of overfitting\n",
        "    \n",
        "    self.fc2 = nn.Linear(500,10)        # Linear(inputnodes,outputnodes(mnist 0-9 classification))\n",
        "    \n",
        "  def forward(self,x):\n",
        "    x = F.relu(self.conv1(x))      # activation function conv layer 1\n",
        "    x = F.max_pool2d(x,2,2)        # pooling layer (input,size of kernel)\n",
        "    \n",
        "    x = F.relu(self.conv2(x))      # activation function conv layer 2\n",
        "    x = F.max_pool2d(x,2,2) \n",
        "    \n",
        "    x = x.view(-1,4*4*50)        # (no. of col,no. of rows) reshaping x to flattern it and input it to fully connected layers\n",
        "    # -1 allows model to self assume no. of columns as long as no. of rows are satisfied\n",
        "    \n",
        "    x = F.relu(self.fc1(x))  # attach relu activation fun to 1st fully connected layer\n",
        "    \n",
        "    x = self.dropout1(x)      # adding dropout layer inbetwee two fully connected layers\n",
        "    x = self.fc2(x)    # no relu here as we will use cross entropy for this later\n",
        "    return x\n",
        "  "
      ],
      "execution_count": 0,
      "outputs": []
    },
    {
      "cell_type": "code",
      "metadata": {
        "id": "7f-q1TIhkRer",
        "colab_type": "code",
        "outputId": "02dc9b1c-c4aa-4938-cec4-432330e13e5c",
        "colab": {
          "base_uri": "https://localhost:8080/",
          "height": 134
        }
      },
      "source": [
        "# use .to(device) to link to cuda for GPU computation\n",
        "\n",
        "model = LeNet().to(device)  # classifier(no. of pixels that must be fed at input, no. of nodes at hidden layer 1,no. of nodes at hidden layer2,output size = no. of classes 0 to9)\n",
        "model"
      ],
      "execution_count": 0,
      "outputs": [
        {
          "output_type": "execute_result",
          "data": {
            "text/plain": [
              "LeNet(\n",
              "  (conv1): Conv2d(1, 20, kernel_size=(5, 5), stride=(1, 1))\n",
              "  (conv2): Conv2d(20, 50, kernel_size=(5, 5), stride=(1, 1))\n",
              "  (fc1): Linear(in_features=800, out_features=500, bias=True)\n",
              "  (dropout1): Dropout(p=0.5)\n",
              "  (fc2): Linear(in_features=500, out_features=10, bias=True)\n",
              ")"
            ]
          },
          "metadata": {
            "tags": []
          },
          "execution_count": 12
        }
      ]
    },
    {
      "cell_type": "code",
      "metadata": {
        "id": "8Lyg_s9mkUSd",
        "colab_type": "code",
        "colab": {}
      },
      "source": [
        "# Loss function\n",
        "criterion = nn.CrossEntropyLoss()\n",
        "optimizer = torch.optim.Adam(model.parameters(), lr = 0.0001)"
      ],
      "execution_count": 0,
      "outputs": []
    },
    {
      "cell_type": "code",
      "metadata": {
        "id": "NerrVHYNkboZ",
        "colab_type": "code",
        "outputId": "708f8f6f-2aaf-4f1d-9ae3-2331e658e1b0",
        "colab": {
          "base_uri": "https://localhost:8080/",
          "height": 773
        }
      },
      "source": [
        "epochs = 15\n",
        "running_loss_history = []\n",
        "running_corrects_history = []\n",
        "val_running_loss_history = []\n",
        "val_running_corrects_history = []\n",
        " \n",
        "for e in range(epochs):\n",
        "  \n",
        "  running_loss = 0.0\n",
        "  running_corrects = 0.0\n",
        "  val_running_loss = 0.0\n",
        "  val_running_corrects = 0.0\n",
        "  \n",
        "  for inputs, labels in training_loader:\n",
        "    inputs = inputs.to(device)\n",
        "    labels = labels.to(device)\n",
        "    \n",
        "    outputs = model(inputs)\n",
        "    loss = criterion(outputs, labels)\n",
        "    \n",
        "    optimizer.zero_grad()\n",
        "    loss.backward()\n",
        "    optimizer.step()\n",
        "    \n",
        "    _, preds = torch.max(outputs, 1)\n",
        "    running_loss += loss.item()\n",
        "    running_corrects += torch.sum(preds == labels.data)\n",
        " \n",
        "  else:\n",
        "    with torch.no_grad():\n",
        "      for val_inputs, val_labels in validation_loader:\n",
        "        \n",
        "        val_inputs = val_inputs.to(device)\n",
        "        val_labels = val_labels.to(device)\n",
        "        \n",
        "        val_outputs = model(val_inputs)\n",
        "        val_loss = criterion(val_outputs, val_labels)\n",
        "        \n",
        "        _, val_preds = torch.max(val_outputs, 1)\n",
        "        val_running_loss += val_loss.item()\n",
        "        val_running_corrects += torch.sum(val_preds == val_labels.data)\n",
        "      \n",
        "    epoch_loss = running_loss/len(training_loader)\n",
        "    epoch_acc = running_corrects.float()/ len(training_loader)\n",
        "    running_loss_history.append(epoch_loss)\n",
        "    running_corrects_history.append(epoch_acc)\n",
        "    \n",
        "    val_epoch_loss = val_running_loss/len(validation_loader)\n",
        "    val_epoch_acc = val_running_corrects.float()/ len(validation_loader)\n",
        "    val_running_loss_history.append(val_epoch_loss)\n",
        "    val_running_corrects_history.append(val_epoch_acc)\n",
        "    print('epoch :', (e+1))\n",
        "    print('training loss: {:.4f}, acc {:.4f} '.format(epoch_loss, epoch_acc.item()))\n",
        "    print('validation loss: {:.4f}, validation acc {:.4f} '.format(val_epoch_loss, val_epoch_acc.item()))"
      ],
      "execution_count": 0,
      "outputs": [
        {
          "output_type": "stream",
          "text": [
            "epoch : 1\n",
            "training loss: 0.5481, acc 85.8883 \n",
            "validation loss: 0.1803, validation acc 94.8283 \n",
            "epoch : 2\n",
            "training loss: 0.1425, acc 95.7233 \n",
            "validation loss: 0.1138, validation acc 96.6283 \n",
            "epoch : 3\n",
            "training loss: 0.0968, acc 97.1650 \n",
            "validation loss: 0.0836, validation acc 97.5067 \n",
            "epoch : 4\n",
            "training loss: 0.0765, acc 97.6867 \n",
            "validation loss: 0.0674, validation acc 98.0000 \n",
            "epoch : 5\n",
            "training loss: 0.0636, acc 98.0900 \n",
            "validation loss: 0.0602, validation acc 98.1917 \n",
            "epoch : 6\n",
            "training loss: 0.0562, acc 98.3050 \n",
            "validation loss: 0.0478, validation acc 98.6000 \n",
            "epoch : 7\n",
            "training loss: 0.0499, acc 98.5033 \n",
            "validation loss: 0.0451, validation acc 98.7217 \n",
            "epoch : 8\n",
            "training loss: 0.0444, acc 98.6983 \n",
            "validation loss: 0.0406, validation acc 98.7600 \n",
            "epoch : 9\n",
            "training loss: 0.0403, acc 98.7900 \n",
            "validation loss: 0.0339, validation acc 98.9900 \n",
            "epoch : 10\n",
            "training loss: 0.0354, acc 98.9367 \n",
            "validation loss: 0.0315, validation acc 99.0233 \n",
            "epoch : 11\n",
            "training loss: 0.0338, acc 98.9350 \n",
            "validation loss: 0.0307, validation acc 99.0200 \n",
            "epoch : 12\n",
            "training loss: 0.0300, acc 99.0483 \n",
            "validation loss: 0.0271, validation acc 99.1933 \n",
            "epoch : 13\n",
            "training loss: 0.0287, acc 99.1450 \n",
            "validation loss: 0.0253, validation acc 99.2167 \n",
            "epoch : 14\n",
            "training loss: 0.0261, acc 99.1783 \n",
            "validation loss: 0.0227, validation acc 99.2833 \n",
            "epoch : 15\n",
            "training loss: 0.0235, acc 99.2433 \n",
            "validation loss: 0.0217, validation acc 99.3267 \n"
          ],
          "name": "stdout"
        }
      ]
    },
    {
      "cell_type": "code",
      "metadata": {
        "id": "n7hfwbFjkgAz",
        "colab_type": "code",
        "outputId": "3283011c-1745-4ab6-c94a-e628b4f08bfc",
        "colab": {
          "base_uri": "https://localhost:8080/",
          "height": 286
        }
      },
      "source": [
        "plt.plot(running_loss_history, label = 'training loss')\n",
        "plt.plot(val_running_loss_history, label= 'validation loss')\n",
        "plt.legend()"
      ],
      "execution_count": 0,
      "outputs": [
        {
          "output_type": "execute_result",
          "data": {
            "text/plain": [
              "<matplotlib.legend.Legend at 0x7fa074668d30>"
            ]
          },
          "metadata": {
            "tags": []
          },
          "execution_count": 16
        },
        {
          "output_type": "display_data",
          "data": {
            "image/png": "[encoded data removed]",
            "text/plain": [
              "<Figure size 432x288 with 1 Axes>"
            ]
          },
          "metadata": {
            "tags": []
          }
        }
      ]
    },
    {
      "cell_type": "code",
      "metadata": {
        "id": "YJU2RKhskpBI",
        "colab_type": "code",
        "outputId": "282a74f3-eab2-48dc-cf16-0e60c3e5e3bd",
        "colab": {
          "base_uri": "https://localhost:8080/",
          "height": 286
        }
      },
      "source": [
        "plt.plot(running_corrects_history ,label ='training accuracy')\n",
        "plt.plot(val_running_corrects_history, label='validation accuracy')\n",
        "plt.legend()"
      ],
      "execution_count": 0,
      "outputs": [
        {
          "output_type": "execute_result",
          "data": {
            "text/plain": [
              "<matplotlib.legend.Legend at 0x7fa0744f3d68>"
            ]
          },
          "metadata": {
            "tags": []
          },
          "execution_count": 17
        },
        {
          "output_type": "display_data",
          "data": {
            "image/png": "[encoded data removed]",
            "text/plain": [
              "<Figure size 432x288 with 1 Axes>"
            ]
          },
          "metadata": {
            "tags": []
          }
        }
      ]
    },
    {
      "cell_type": "code",
      "metadata": {
        "id": "jK-AgMD6krUv",
        "colab_type": "code",
        "colab": {}
      },
      "source": [
        "import PIL.ImageOps"
      ],
      "execution_count": 0,
      "outputs": []
    },
    {
      "cell_type": "code",
      "metadata": {
        "id": "xguddYMV3jOq",
        "colab_type": "code",
        "outputId": "e8804942-61b4-4b62-cde0-047aef84641d",
        "colab": {
          "base_uri": "https://localhost:8080/",
          "height": 286
        }
      },
      "source": [
        "import requests\n",
        "from PIL import Image\n",
        "url ='https://images.homedepot-static.com/productImages/007164ea-d47e-4f66-8d8c-fd9f621984a2/svn/architectural-mailboxes-house-letters-numbers-3585b-5-64_1000.jpg'\n",
        "response = requests.get(url,stream = True)\n",
        "img = Image.open(response.raw)\n",
        "plt.imshow(img)\n",
        "print(response)"
      ],
      "execution_count": 0,
      "outputs": [
        {
          "output_type": "stream",
          "text": [
            "<Response [200]>\n"
          ],
          "name": "stdout"
        },
        {
          "output_type": "display_data",
          "data": {
            "image/png": "[encoded data removed]",
            "text/plain": [
              "<Figure size 432x288 with 1 Axes>"
            ]
          },
          "metadata": {
            "tags": []
          }
        }
      ]
    },
    {
      "cell_type": "code",
      "metadata": {
        "id": "dpKJNsVP3jm3",
        "colab_type": "code",
        "outputId": "d20a0e0c-6b31-4142-f39a-49a6101a7b1c",
        "colab": {
          "base_uri": "https://localhost:8080/",
          "height": 286
        }
      },
      "source": [
        "# the model is trained on black background and white image\n",
        "# above image is reverse ..converting above image to desired form\n",
        "\n",
        "img = PIL.ImageOps.invert(img)\n",
        "img = img.convert('1')\n",
        "img =transform(img)\n",
        "plt.imshow(im_convert(img))"
      ],
      "execution_count": 0,
      "outputs": [
        {
          "output_type": "execute_result",
          "data": {
            "text/plain": [
              "<matplotlib.image.AxesImage at 0x7fa072ff6358>"
            ]
          },
          "metadata": {
            "tags": []
          },
          "execution_count": 20
        },
        {
          "output_type": "display_data",
          "data": {
            "image/png": "[encoded data removed]",
            "text/plain": [
              "<Figure size 432x288 with 1 Axes>"
            ]
          },
          "metadata": {
            "tags": []
          }
        }
      ]
    },
    {
      "cell_type": "code",
      "metadata": {
        "id": "6n1ueBcM3kDB",
        "colab_type": "code",
        "outputId": "d68ca202-4e74-430e-9fca-683d60b1c06f",
        "colab": {
          "base_uri": "https://localhost:8080/",
          "height": 34
        }
      },
      "source": [
        "images = img.to(device)\n",
        "\n",
        "images =images[0].unsqueeze(0).unsqueeze(0)\n",
        "#return is a new tensor with a dimension of size 1 inserted at the specified position zero and it does\n",
        "#that twice and that is how we will account for the extra dimensionality \n",
        "\n",
        "output = model(images)\n",
        "_,pred = torch.max(output, 1)\n",
        "print(pred.item())"
      ],
      "execution_count": 0,
      "outputs": [
        {
          "output_type": "stream",
          "text": [
            "5\n"
          ],
          "name": "stdout"
        }
      ]
    },
    {
      "cell_type": "code",
      "metadata": {
        "id": "_OVUpZ2Z3kdV",
        "colab_type": "code",
        "outputId": "7ac40e41-3c37-450b-e1b6-4d574ddbb214",
        "colab": {
          "base_uri": "https://localhost:8080/",
          "height": 288
        }
      },
      "source": [
        "# creating a iterator \n",
        "# iter creates an object that allows us to go through the iterable of training loader one element at a time \n",
        "dataiter = iter(validation_loader)\n",
        "images , labels = dataiter.next()\n",
        "images = images.to(device)\n",
        "labels = labels.to(device)\n",
        "\n",
        "\n",
        "\n",
        "output = model(images)\n",
        "_,preds = torch.max(output, 1)\n",
        "\n",
        "\n",
        "fig = plt.figure(figsize =(25,4))\n",
        "\n",
        "for idx in np.arange(20):\n",
        "  ax =fig.add_subplot(2,10,idx+1,xticks =[],yticks =[])   # 2 rows 10 columns per row and index\n",
        "  plt.imshow(im_convert(images[idx]))\n",
        "  ax.set_title(\" {} ({}) \".format(str(preds[idx].item()),str(labels[idx].item())), color= \"green\" if preds[idx]==labels[idx] else \"red\")"
      ],
      "execution_count": 0,
      "outputs": [
        {
          "output_type": "display_data",
          "data": {
            "image/png": "[encoded data removed]",
            "text/plain": [
              "<Figure size 1800x288 with 20 Axes>"
            ]
          },
          "metadata": {
            "tags": []
          }
        }
      ]
    },
    {
      "cell_type": "code",
      "metadata": {
        "id": "U6I-DUqn3k33",
        "colab_type": "code",
        "colab": {}
      },
      "source": [
        "# saving model\n",
        "\n",
        "torch.save(model.state_dict(), 'mnist_cnn.pth')"
      ],
      "execution_count": 0,
      "outputs": []
    },
    {
      "cell_type": "code",
      "metadata": {
        "id": "qOE2MD62CvjH",
        "colab_type": "code",
        "colab": {}
      },
      "source": [
        "# convert pytorch model to tensorflow model using OONX\n",
        "\n",
        "# STEP 1 - export trained model to oonx\n",
        "\n",
        "from torch.autograd import Variable\n",
        "\n",
        "# Load the trained model from file\n",
        "trained_model = LeNet()\n",
        "trained_model.load_state_dict(torch.load('mnist_cnn.pth'))\n",
        "\n",
        "# Export the trained model to ONNX\n",
        "dummy_input = Variable(torch.randn(1, 1, 28, 28)) # one black and white 28 x 28 picture will be the input to the model\n",
        "torch.onnx.export(trained_model, dummy_input, \"mnist_cnn.onnx\")\n"
      ],
      "execution_count": 0,
      "outputs": []
    },
    {
      "cell_type": "code",
      "metadata": {
        "id": "oZK-DCLZDGnp",
        "colab_type": "code",
        "outputId": "a5a22041-944e-41d4-c53c-c9feb032be8b",
        "colab": {
          "base_uri": "https://localhost:8080/",
          "height": 457
        }
      },
      "source": [
        "!pip3 install onnx\n",
        "!pip3 install onnx-tf"
      ],
      "execution_count": 0,
      "outputs": [
        {
          "output_type": "stream",
          "text": [
            "Collecting onnx\n",
            "\u001b[?25l  Downloading https://files.pythonhosted.org/packages/88/50/e4a5a869093f35884d1fd95b46b24705ab27adb7e562a2a307523c043be3/onnx-1.5.0-cp36-cp36m-manylinux1_x86_64.whl (7.0MB)\n",
            "\u001b[K     |████████████████████████████████| 7.1MB 2.8MB/s \n",
            "\u001b[?25hRequirement already satisfied: typing>=3.6.4 in /usr/local/lib/python3.6/dist-packages (from onnx) (3.7.4)\n",
            "Requirement already satisfied: protobuf in /usr/local/lib/python3.6/dist-packages (from onnx) (3.7.1)\n",
            "Requirement already satisfied: numpy in /usr/local/lib/python3.6/dist-packages (from onnx) (1.16.4)\n",
            "Collecting typing-extensions>=3.6.2.1 (from onnx)\n",
            "  Downloading https://files.pythonhosted.org/packages/27/aa/bd1442cfb0224da1b671ab334d3b0a4302e4161ea916e28904ff9618d471/typing_extensions-3.7.4-py3-none-any.whl\n",
            "Requirement already satisfied: six in /usr/local/lib/python3.6/dist-packages (from onnx) (1.12.0)\n",
            "Requirement already satisfied: setuptools in /usr/local/lib/python3.6/dist-packages (from protobuf->onnx) (41.0.1)\n",
            "Installing collected packages: typing-extensions, onnx\n",
            "Successfully installed onnx-1.5.0 typing-extensions-3.7.4\n",
            "Collecting onnx-tf\n",
            "\u001b[?25l  Downloading https://files.pythonhosted.org/packages/4c/50/505cd534f2b6183530c02bb42a551c713734adc1ad92e77a77d26c09e33d/onnx_tf-1.3.0-py3-none-any.whl (113kB)\n",
            "\u001b[K     |████████████████████████████████| 122kB 2.7MB/s \n",
            "\u001b[?25hRequirement already satisfied: PyYAML in /usr/local/lib/python3.6/dist-packages (from onnx-tf) (3.13)\n",
            "Requirement already satisfied: onnx>=1.3.0 in /usr/local/lib/python3.6/dist-packages (from onnx-tf) (1.5.0)\n",
            "Requirement already satisfied: six in /usr/local/lib/python3.6/dist-packages (from onnx>=1.3.0->onnx-tf) (1.12.0)\n",
            "Requirement already satisfied: numpy in /usr/local/lib/python3.6/dist-packages (from onnx>=1.3.0->onnx-tf) (1.16.4)\n",
            "Requirement already satisfied: protobuf in /usr/local/lib/python3.6/dist-packages (from onnx>=1.3.0->onnx-tf) (3.7.1)\n",
            "Requirement already satisfied: typing>=3.6.4 in /usr/local/lib/python3.6/dist-packages (from onnx>=1.3.0->onnx-tf) (3.7.4)\n",
            "Requirement already satisfied: typing-extensions>=3.6.2.1 in /usr/local/lib/python3.6/dist-packages (from onnx>=1.3.0->onnx-tf) (3.7.4)\n",
            "Requirement already satisfied: setuptools in /usr/local/lib/python3.6/dist-packages (from protobuf->onnx>=1.3.0->onnx-tf) (41.0.1)\n",
            "Installing collected packages: onnx-tf\n",
            "Successfully installed onnx-tf-1.3.0\n"
          ],
          "name": "stdout"
        }
      ]
    },
    {
      "cell_type": "code",
      "metadata": {
        "id": "GpYqCieoDabj",
        "colab_type": "code",
        "outputId": "80e319a5-ed2c-4a63-865e-904123c829e0",
        "colab": {
          "base_uri": "https://localhost:8080/",
          "height": 742
        }
      },
      "source": [
        "import onnx\n",
        "from onnx_tf.backend import prepare\n",
        "\n",
        "# Load the ONNX file\n",
        "model = onnx.load('mnist_cnn.onnx')\n",
        "\n",
        "# Import the ONNX model to Tensorflow\n",
        "tf_rep = prepare(model)"
      ],
      "execution_count": 0,
      "outputs": [
        {
          "output_type": "stream",
          "text": [
            "/usr/local/lib/python3.6/dist-packages/onnx_tf/common/__init__.py:87: UserWarning: onnx_tf.common.get_outputs_names is deprecated. It will be removed in future release. Use TensorflowGraph.get_outputs_names instead.\n",
            "  warnings.warn(message)\n",
            "WARNING: Logging before flag parsing goes to stderr.\n",
            "W0710 04:04:52.926102 140329068513152 deprecation_wrapper.py:119] From /usr/local/lib/python3.6/dist-packages/onnx_tf/handlers/backend/ceil.py:10: The name tf.ceil is deprecated. Please use tf.math.ceil instead.\n",
            "\n",
            "W0710 04:04:52.930576 140329068513152 deprecation_wrapper.py:119] From /usr/local/lib/python3.6/dist-packages/onnx_tf/handlers/backend/depth_to_space.py:12: The name tf.depth_to_space is deprecated. Please use tf.compat.v1.depth_to_space instead.\n",
            "\n",
            "W0710 04:04:52.934353 140329068513152 deprecation_wrapper.py:119] From /usr/local/lib/python3.6/dist-packages/onnx_tf/handlers/backend/erf.py:9: The name tf.erf is deprecated. Please use tf.math.erf instead.\n",
            "\n",
            "W0710 04:04:55.335278 140329068513152 lazy_loader.py:50] \n",
            "The TensorFlow contrib module will not be included in TensorFlow 2.0.\n",
            "For more information, please see:\n",
            "  * https://github.com/tensorflow/community/blob/master/rfcs/20180907-contrib-sunset.md\n",
            "  * https://github.com/tensorflow/addons\n",
            "  * https://github.com/tensorflow/io (for I/O related ops)\n",
            "If you depend on functionality not listed there, please file an issue.\n",
            "\n",
            "W0710 04:04:55.338565 140329068513152 deprecation_wrapper.py:119] From /usr/local/lib/python3.6/dist-packages/onnx_tf/handlers/backend/is_nan.py:9: The name tf.is_nan is deprecated. Please use tf.math.is_nan instead.\n",
            "\n",
            "W0710 04:04:55.343110 140329068513152 deprecation_wrapper.py:119] From /usr/local/lib/python3.6/dist-packages/onnx_tf/handlers/backend/log.py:10: The name tf.log is deprecated. Please use tf.math.log instead.\n",
            "\n",
            "W0710 04:04:55.363930 140329068513152 deprecation_wrapper.py:119] From /usr/local/lib/python3.6/dist-packages/onnx_tf/handlers/backend/upsample.py:13: The name tf.image.resize_images is deprecated. Please use tf.image.resize instead.\n",
            "\n",
            "/usr/local/lib/python3.6/dist-packages/onnx_tf/common/handler_helper.py:37: UserWarning: Unknown op ConstantFill in domain `ai.onnx`.\n",
            "  handler.ONNX_OP, handler.DOMAIN or \"ai.onnx\"))\n",
            "/usr/local/lib/python3.6/dist-packages/onnx_tf/common/handler_helper.py:37: UserWarning: Unknown op ImageScaler in domain `ai.onnx`.\n",
            "  handler.ONNX_OP, handler.DOMAIN or \"ai.onnx\"))\n",
            "/usr/local/lib/python3.6/dist-packages/onnx_tf/common/handler_helper.py:34: UserWarning: Fail to get since_version of IsInf in domain `` with max_inclusive_version=9. Set to 1.\n",
            "  handler.ONNX_OP, handler.DOMAIN, version))\n",
            "/usr/local/lib/python3.6/dist-packages/onnx_tf/common/handler_helper.py:34: UserWarning: Fail to get since_version of Mod in domain `` with max_inclusive_version=9. Set to 1.\n",
            "  handler.ONNX_OP, handler.DOMAIN, version))\n",
            "/usr/local/lib/python3.6/dist-packages/onnx_tf/common/handler_helper.py:34: UserWarning: Fail to get since_version of ThresholdedRelu in domain `` with max_inclusive_version=9. Set to 1.\n",
            "  handler.ONNX_OP, handler.DOMAIN, version))\n",
            "W0710 04:04:56.971431 140329068513152 deprecation.py:323] From /usr/local/lib/python3.6/dist-packages/onnx_tf/handlers/backend/reshape.py:26: add_dispatch_support.<locals>.wrapper (from tensorflow.python.ops.array_ops) is deprecated and will be removed in a future version.\n",
            "Instructions for updating:\n",
            "Use tf.where in 2.0, which has the same broadcast rule as np.where\n",
            "W0710 04:04:56.977923 140329068513152 deprecation.py:323] From /usr/local/lib/python3.6/dist-packages/onnx_tf/handlers/backend/reshape.py:31: sparse_to_dense (from tensorflow.python.ops.sparse_ops) is deprecated and will be removed in a future version.\n",
            "Instructions for updating:\n",
            "Create a `tf.sparse.SparseTensor` and use `tf.sparse.to_dense` instead.\n",
            "W0710 04:04:57.016937 140329068513152 deprecation.py:323] From /usr/local/lib/python3.6/dist-packages/onnx_tf/handlers/backend/gemm.py:14: flatten (from tensorflow.python.layers.core) is deprecated and will be removed in a future version.\n",
            "Instructions for updating:\n",
            "Use keras.layers.flatten instead.\n"
          ],
          "name": "stderr"
        }
      ]
    },
    {
      "cell_type": "code",
      "metadata": {
        "id": "fQ0Xoz4MDiYz",
        "colab_type": "code",
        "outputId": "c191ff28-b5bf-4b5f-f056-26b9c7353e0e",
        "colab": {
          "base_uri": "https://localhost:8080/",
          "height": 104
        }
      },
      "source": [
        "# Input nodes to the model\n",
        "print('inputs:', tf_rep.inputs)\n",
        "\n",
        "# Output nodes from the model\n",
        "print('outputs:', tf_rep.outputs)\n",
        "\n",
        "# All nodes in the model\n",
        "print('tensor_dict:')\n",
        "print(tf_rep.tensor_dict)"
      ],
      "execution_count": 0,
      "outputs": [
        {
          "output_type": "stream",
          "text": [
            "inputs: ['0']\n",
            "outputs: ['19']\n",
            "tensor_dict:\n",
            "{'conv1.bias': <tf.Tensor 'Const:0' shape=(20,) dtype=float32>, 'conv1.weight': <tf.Tensor 'Const_1:0' shape=(20, 1, 5, 5) dtype=float32>, 'conv2.bias': <tf.Tensor 'Const_2:0' shape=(50,) dtype=float32>, 'conv2.weight': <tf.Tensor 'Const_3:0' shape=(50, 20, 5, 5) dtype=float32>, 'fc1.bias': <tf.Tensor 'Const_4:0' shape=(500,) dtype=float32>, 'fc1.weight': <tf.Tensor 'Const_5:0' shape=(500, 800) dtype=float32>, 'fc2.bias': <tf.Tensor 'Const_6:0' shape=(10,) dtype=float32>, 'fc2.weight': <tf.Tensor 'Const_7:0' shape=(10, 500) dtype=float32>, '0': <tf.Tensor '0:0' shape=(1, 1, 28, 28) dtype=float32>, '9': <tf.Tensor 'Add:0' shape=(1, 20, 24, 24) dtype=float32>, '10': <tf.Tensor 'Relu:0' shape=(1, 20, 24, 24) dtype=float32>, '11': <tf.Tensor 'max_pool:0' shape=(1, 20, 12, 12) dtype=float32>, '12': <tf.Tensor 'Add_1:0' shape=(1, 50, 8, 8) dtype=float32>, '13': <tf.Tensor 'Relu_1:0' shape=(1, 50, 8, 8) dtype=float32>, '14': <tf.Tensor 'max_pool_1:0' shape=(1, 50, 4, 4) dtype=float32>, '15': <tf.Tensor 'Const_14:0' shape=(2,) dtype=int64>, '16': <tf.Tensor 'Reshape:0' shape=(1, 800) dtype=float32>, '17': <tf.Tensor 'add_3:0' shape=(1, 500) dtype=float32>, '18': <tf.Tensor 'Relu_2:0' shape=(1, 500) dtype=float32>, '19': <tf.Tensor 'add_4:0' shape=(1, 10) dtype=float32>}\n"
          ],
          "name": "stdout"
        }
      ]
    },
    {
      "cell_type": "code",
      "metadata": {
        "id": "t5PaFL6mDmoC",
        "colab_type": "code",
        "colab": {}
      },
      "source": [
        "tf_rep.export_graph('mnist_cnn.pb')"
      ],
      "execution_count": 0,
      "outputs": []
    },
    {
      "cell_type": "code",
      "metadata": {
        "id": "lnnTQo-rD1CY",
        "colab_type": "code",
        "colab": {}
      },
      "source": [
        "from tensorflow.python.tools import freeze_graph, optimize_for_inference_lib"
      ],
      "execution_count": 0,
      "outputs": []
    },
    {
      "cell_type": "code",
      "metadata": {
        "id": "S3XApVqID4MZ",
        "colab_type": "code",
        "colab": {}
      },
      "source": [
        "import tensorflow as tf\n",
        "\n",
        "# Input Graph Definition\n",
        "input_graph_def = tf.GraphDef()"
      ],
      "execution_count": 0,
      "outputs": []
    },
    {
      "cell_type": "code",
      "metadata": {
        "id": "2UrFX2UlD6oD",
        "colab_type": "code",
        "colab": {}
      },
      "source": [
        "# Optimize Frozen Model for Inference\n",
        "# Open \"frozen_linear_regression.pb\" model\n",
        "with tf.gfile.Open('mnist_cnn.pb', 'rb') as f:\n",
        "    # Read data from frozen model file\n",
        "    data = f.read()\n",
        "    # Parse model data from \"data\"\n",
        "    input_graph_def.ParseFromString(data)"
      ],
      "execution_count": 0,
      "outputs": []
    },
    {
      "cell_type": "code",
      "metadata": {
        "id": "2_vBv_cmD942",
        "colab_type": "code",
        "colab": {}
      },
      "source": [
        "output_graph_def = optimize_for_inference_lib.optimize_for_inference(input_graph_def=input_graph_def,\n",
        "                                                                     input_node_names=[\"0\"],\n",
        "                                                                     output_node_names=['Add'],\n",
        "                                                                     placeholder_type_enum=tf.float32.as_datatype_enum)"
      ],
      "execution_count": 0,
      "outputs": []
    },
    {
      "cell_type": "code",
      "metadata": {
        "id": "kd6Cc-5-Enm4",
        "colab_type": "code",
        "colab": {}
      },
      "source": [
        "file = tf.gfile.FastGFile(name=\"optimized_mnist_cnn_model.pb\",\n",
        "                          mode='w')"
      ],
      "execution_count": 0,
      "outputs": []
    },
    {
      "cell_type": "code",
      "metadata": {
        "id": "LbCQqUlSFQ9J",
        "colab_type": "code",
        "outputId": "a520ad39-5186-40f8-98a6-6b26fc83ae25",
        "colab": {
          "base_uri": "https://localhost:8080/",
          "height": 34
        }
      },
      "source": [
        "# Save the optimized graph def as an optimized frozen model\n",
        "file.write(file_content=output_graph_def.SerializeToString())\n",
        "\n",
        "print(\"Optimized Model Saved at ./optimized_mnist_cnn_model.pb\")"
      ],
      "execution_count": 49,
      "outputs": [
        {
          "output_type": "stream",
          "text": [
            "Optimized Model Saved at ./optimized_mnist_cnn_model.pb\n"
          ],
          "name": "stdout"
        }
      ]
    },
    {
      "cell_type": "code",
      "metadata": {
        "id": "EthVvq8GFWBM",
        "colab_type": "code",
        "colab": {}
      },
      "source": [
        "# Convert Frozen Model to TFLite Model\n",
        "converter = tf.lite.TFLiteConverter.from_frozen_graph(graph_def_file=\"mnist_cnn.pb\",\n",
        "                                                      input_arrays=[\"0\"],\n",
        "                                                      output_arrays=['Add'],\n",
        "                                                      )"
      ],
      "execution_count": 0,
      "outputs": []
    },
    {
      "cell_type": "code",
      "metadata": {
        "id": "sQoVZl1NFc8X",
        "colab_type": "code",
        "outputId": "e62d20de-2c1d-44b9-d341-de8c7520a06f",
        "colab": {
          "base_uri": "https://localhost:8080/",
          "height": 491
        }
      },
      "source": [
        "# Quantize Trained Model\n",
        "converter.post_training_quantize = True\n",
        "\n",
        "# Convert Frozen Model to TFLite Model\n",
        "tflite_model = converter.convert()\n",
        "\n",
        "# Save TFLite Model\n",
        "open(\"optimized_mnist_cnn_model.tflite\", \"wb\").write(tflite_model)\n",
        "\n",
        "print(\"Optimized TFLite Model Saved at optimized_mnist_cnn_model.tflite\")"
      ],
      "execution_count": 51,
      "outputs": [
        {
          "output_type": "stream",
          "text": [
            "/usr/local/lib/python3.6/dist-packages/tensorflow/lite/python/lite.py:769: UserWarning: Property post_training_quantize is deprecated, please use optimizations=[Optimize.DEFAULT] instead.\n",
            "  \" instead.\" % name)\n"
          ],
          "name": "stderr"
        },
        {
          "output_type": "error",
          "ename": "ConverterError",
          "evalue": "ignored",
          "traceback": [
            "\u001b[0;31m---------------------------------------------------------------------------\u001b[0m",
            "\u001b[0;31mConverterError\u001b[0m                            Traceback (most recent call last)",
            "\u001b[0;32m<ipython-input-51-cfbba3b3ab59>\u001b[0m in \u001b[0;36m<module>\u001b[0;34m()\u001b[0m\n\u001b[1;32m      2\u001b[0m \u001b[0;34m\u001b[0m\u001b[0m\n\u001b[1;32m      3\u001b[0m \u001b[0;31m# Convert Frozen Model to TFLite Model\u001b[0m\u001b[0;34m\u001b[0m\u001b[0;34m\u001b[0m\u001b[0;34m\u001b[0m\u001b[0m\n\u001b[0;32m----> 4\u001b[0;31m \u001b[0mtflite_model\u001b[0m \u001b[0;34m=\u001b[0m \u001b[0mconverter\u001b[0m\u001b[0;34m.\u001b[0m\u001b[0mconvert\u001b[0m\u001b[0;34m(\u001b[0m\u001b[0;34m)\u001b[0m\u001b[0;34m\u001b[0m\u001b[0;34m\u001b[0m\u001b[0m\n\u001b[0m\u001b[1;32m      5\u001b[0m \u001b[0;34m\u001b[0m\u001b[0m\n\u001b[1;32m      6\u001b[0m \u001b[0;31m# Save TFLite Model\u001b[0m\u001b[0;34m\u001b[0m\u001b[0;34m\u001b[0m\u001b[0;34m\u001b[0m\u001b[0m\n",
            "\u001b[0;32m/usr/local/lib/python3.6/dist-packages/tensorflow/lite/python/lite.py\u001b[0m in \u001b[0;36mconvert\u001b[0;34m(self)\u001b[0m\n\u001b[1;32m    896\u001b[0m           \u001b[0minput_tensors\u001b[0m\u001b[0;34m=\u001b[0m\u001b[0mself\u001b[0m\u001b[0;34m.\u001b[0m\u001b[0m_input_tensors\u001b[0m\u001b[0;34m,\u001b[0m\u001b[0;34m\u001b[0m\u001b[0;34m\u001b[0m\u001b[0m\n\u001b[1;32m    897\u001b[0m           \u001b[0moutput_tensors\u001b[0m\u001b[0;34m=\u001b[0m\u001b[0mself\u001b[0m\u001b[0;34m.\u001b[0m\u001b[0m_output_tensors\u001b[0m\u001b[0;34m,\u001b[0m\u001b[0;34m\u001b[0m\u001b[0;34m\u001b[0m\u001b[0m\n\u001b[0;32m--> 898\u001b[0;31m           **converter_kwargs)\n\u001b[0m\u001b[1;32m    899\u001b[0m     \u001b[0;32melse\u001b[0m\u001b[0;34m:\u001b[0m\u001b[0;34m\u001b[0m\u001b[0;34m\u001b[0m\u001b[0m\n\u001b[1;32m    900\u001b[0m       result = _toco_convert_graph_def(\n",
            "\u001b[0;32m/usr/local/lib/python3.6/dist-packages/tensorflow/lite/python/convert.py\u001b[0m in \u001b[0;36mtoco_convert_impl\u001b[0;34m(input_data, input_tensors, output_tensors, *args, **kwargs)\u001b[0m\n\u001b[1;32m    402\u001b[0m   data = toco_convert_protos(model_flags.SerializeToString(),\n\u001b[1;32m    403\u001b[0m                              \u001b[0mtoco_flags\u001b[0m\u001b[0;34m.\u001b[0m\u001b[0mSerializeToString\u001b[0m\u001b[0;34m(\u001b[0m\u001b[0;34m)\u001b[0m\u001b[0;34m,\u001b[0m\u001b[0;34m\u001b[0m\u001b[0;34m\u001b[0m\u001b[0m\n\u001b[0;32m--> 404\u001b[0;31m                              input_data.SerializeToString())\n\u001b[0m\u001b[1;32m    405\u001b[0m   \u001b[0;32mreturn\u001b[0m \u001b[0mdata\u001b[0m\u001b[0;34m\u001b[0m\u001b[0;34m\u001b[0m\u001b[0m\n\u001b[1;32m    406\u001b[0m \u001b[0;34m\u001b[0m\u001b[0m\n",
            "\u001b[0;32m/usr/local/lib/python3.6/dist-packages/tensorflow/lite/python/convert.py\u001b[0m in \u001b[0;36mtoco_convert_protos\u001b[0;34m(model_flags_str, toco_flags_str, input_data_str)\u001b[0m\n\u001b[1;32m    170\u001b[0m       \u001b[0mstderr\u001b[0m \u001b[0;34m=\u001b[0m \u001b[0m_try_convert_to_unicode\u001b[0m\u001b[0;34m(\u001b[0m\u001b[0mstderr\u001b[0m\u001b[0;34m)\u001b[0m\u001b[0;34m\u001b[0m\u001b[0;34m\u001b[0m\u001b[0m\n\u001b[1;32m    171\u001b[0m       raise ConverterError(\n\u001b[0;32m--> 172\u001b[0;31m           \"TOCO failed. See console for info.\\n%s\\n%s\\n\" % (stdout, stderr))\n\u001b[0m\u001b[1;32m    173\u001b[0m   \u001b[0;32mfinally\u001b[0m\u001b[0;34m:\u001b[0m\u001b[0;34m\u001b[0m\u001b[0;34m\u001b[0m\u001b[0m\n\u001b[1;32m    174\u001b[0m     \u001b[0;31m# Must manually cleanup files.\u001b[0m\u001b[0;34m\u001b[0m\u001b[0;34m\u001b[0m\u001b[0;34m\u001b[0m\u001b[0m\n",
            "\u001b[0;31mConverterError\u001b[0m: TOCO failed. See console for info.\n2019-07-10 04:17:36.684789: F tensorflow/lite/toco/import_tensorflow.cc:2619] Check failed: status.ok() Unexpected value for attribute 'data_format'. Expected 'NHWC'\nAborted (core dumped)\n\n\n"
          ]
        }
      ]
    },
    {
      "cell_type": "code",
      "metadata": {
        "id": "A50Hl8EyFvV5",
        "colab_type": "code",
        "colab": {}
      },
      "source": [
        ""
      ],
      "execution_count": 0,
      "outputs": []
    }
  ]
}