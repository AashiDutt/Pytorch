{
  "nbformat": 4,
  "nbformat_minor": 0,
  "metadata": {
    "colab": {
      "name": "Image_Recognition_in_Pytorch.ipynb",
      "version": "0.3.2",
      "provenance": [],
      "collapsed_sections": [],
      "toc_visible": true,
      "include_colab_link": true
    },
    "kernelspec": {
      "name": "python3",
      "display_name": "Python 3"
    }
  },
  "cells": [
    {
      "cell_type": "markdown",
      "metadata": {
        "id": "view-in-github",
        "colab_type": "text"
      },
      "source": [
        "<a href=\"https://colab.research.google.com/github/AashiDutt/Pytorch/blob/master/Image_Recognition_in_Pytorch.ipynb\" target=\"_parent\"><img src=\"https://colab.research.google.com/assets/colab-badge.svg\" alt=\"Open In Colab\"/></a>"
      ]
    },
    {
      "cell_type": "markdown",
      "metadata": {
        "id": "qhUDFHZ7Vrct",
        "colab_type": "text"
      },
      "source": [
        "In this repository we will look through Image Recognition using Pytorch using MNIST dataset and using validation datset."
      ]
    },
    {
      "cell_type": "markdown",
      "metadata": {
        "id": "nj69FmMoYE-7",
        "colab_type": "text"
      },
      "source": [
        "softmax activation function capable of dealing with multiclass datasets\n",
        "\n",
        "## MNIST dataset is input to neural network in form of pixels i.e(28 X 28 = 784 pixels).\n",
        "\n",
        "1. Therefore our input nodes of neural network must be equal to 784 nodes.\n",
        "\n",
        "2.while the output classify numbers between 0 to 9 therefore no. of output nodes = 10"
      ]
    },
    {
      "cell_type": "markdown",
      "metadata": {
        "id": "O9PSiRU0MevC",
        "colab_type": "text"
      },
      "source": [
        "## Split large dataset into training and test dataset\n",
        "  \n",
        " **Generalization** - the ability to correctly classify data which has never been seen before and has no labels.\n",
        "  \n",
        "he more minimized the training error the greater will be the test error\n",
        "  \n",
        " small training error = underfitting\n",
        "  \n",
        " gap between test and training error grows larger = overfitting\n",
        "  \n",
        "** Underfitting** - model with insufficient capacity are unable to solve complex tasks.\n",
        "\n",
        "**Overfitting **- when model performs better on train data than test data\n",
        "  \n",
        "**Reducing overfitting **\n",
        "1. Reduce depth and complexity of model\n",
        "2. reduce no. of nodes\n",
        "3. reduce no. of epochs\n",
        "\n",
        "**Generalization error** (also known as the out-of-sample error) is a measure of how accurately an algorithm is able to predict outcome values for previously unseen data.\n",
        "  \n",
        "**Regularization** - helps to reduce Generalization error."
      ]
    },
    {
      "cell_type": "code",
      "metadata": {
        "id": "f0eGbGXyT29N",
        "colab_type": "code",
        "colab": {
          "base_uri": "https://localhost:8080/",
          "height": 118
        },
        "outputId": "efd2b6dd-286e-45e6-d281-fef7c98e1b90"
      },
      "source": [
        "# CODE\n",
        "\n",
        "# Loading Images and Transforms\n",
        "\n",
        "!pip3 install torch torchvision"
      ],
      "execution_count": 1,
      "outputs": [
        {
          "output_type": "stream",
          "text": [
            "Requirement already satisfied: torch in /usr/local/lib/python3.6/dist-packages (1.1.0)\n",
            "Requirement already satisfied: torchvision in /usr/local/lib/python3.6/dist-packages (0.3.0)\n",
            "Requirement already satisfied: numpy in /usr/local/lib/python3.6/dist-packages (from torch) (1.16.4)\n",
            "Requirement already satisfied: six in /usr/local/lib/python3.6/dist-packages (from torchvision) (1.12.0)\n",
            "Requirement already satisfied: pillow>=4.1.1 in /usr/local/lib/python3.6/dist-packages (from torchvision) (4.3.0)\n",
            "Requirement already satisfied: olefile in /usr/local/lib/python3.6/dist-packages (from pillow>=4.1.1->torchvision) (0.46)\n"
          ],
          "name": "stdout"
        }
      ]
    },
    {
      "cell_type": "code",
      "metadata": {
        "id": "M0FdKKoESvgO",
        "colab_type": "code",
        "colab": {}
      },
      "source": [
        "import torch\n",
        "from torchvision import datasets, transforms\n",
        "\n",
        "# transformations are used to preprocess the dataset before it is fed to neural network\n",
        "from torch import nn\n",
        "import torch.nn.functional as F\n",
        "import matplotlib.pyplot as plt\n",
        "import numpy as np"
      ],
      "execution_count": 0,
      "outputs": []
    },
    {
      "cell_type": "code",
      "metadata": {
        "id": "B2aYwcp8TKpp",
        "colab_type": "code",
        "colab": {}
      },
      "source": [
        "transform = transforms.Compose([transforms.Resize((28,28)),transforms.ToTensor(),transforms.Normalize((0.5,),(0.5,))])\n",
        "#Compose allows us to chain together transformations\n",
        "\n",
        "#we chose value 0.5 because we want values in range 0 to 1,creating a range (-1 to 1)\n",
        "\n",
        "# Normalizing the image \n",
        "# formula z = (x - mean)/ standard deviation\n",
        "# eg. (min value - mean)/standard deviation = (0-0.5)/0.5 = -1\n",
        "# (max value- mean)/sd = (1-0.5)/0.5 =1  therefore range = (-1,1)\n",
        "\n",
        "#Normalize((0.5,0.5,0.5),(0.5,0.5,0.5)) = Normalize(mean,standard deviation)\n",
        "#Normalize the value of each tensor of image size channel height and widthin 1st set of brackets\n",
        "#converts numpy array(of range 0-255) to tensor (a float tensor in range 0 to 1)\n",
        "\n",
        "# defining root directory of training_dataset\n",
        "training_dataset = datasets.MNIST(root ='./data', train = True, download = True,transform =transform )\n",
        "validation_dataset = datasets.MNIST(root ='./data', train = False, download = True,transform =transform )\n",
        "\n",
        "\n",
        "training_loader = torch.utils.data.DataLoader(dataset = training_dataset, batch_size = 100, shuffle = True)\n",
        "validation_loader =torch.utils.data.DataLoader(dataset = training_dataset, batch_size = 100, shuffle = False)"
      ],
      "execution_count": 0,
      "outputs": []
    },
    {
      "cell_type": "code",
      "metadata": {
        "id": "Isl1itf_wWef",
        "colab_type": "code",
        "colab": {}
      },
      "source": [
        "# to plot an image convert it again to a numpy array\n",
        "def im_convert(tensor):\n",
        "  image = tensor.clone().detach().numpy()\n",
        "  # clone to create new copy of tensor\n",
        "  # use detach function to call numpy\n",
        "  \n",
        "  image = image.transpose(1,2,0)\n",
        "  # we have shape of tensor as(1,28,28)(single colorchannel,shape(28,28)) but to plot a grayscale image we need tensor of shape (28,28,1)\n",
        "  # we swap axis using transpose means swap axis 0 for axis 1, axis 1 fo axis 2 and axis 0 in the end\n",
        "  #print(image.shape)\n",
        "  # denormalizing the image\n",
        "  # x=z * standard deviation + mean\n",
        "  \n",
        "  image = image *np.array((0.5,0.5,0.5)) + np.array((0.5,0.5,0.5))\n",
        "  image = image.clip(0,1)\n",
        "  # to reconvert range from (-1,1) to (1,1) we use clip function\n",
        "  return image\n"
      ],
      "execution_count": 0,
      "outputs": []
    },
    {
      "cell_type": "code",
      "metadata": {
        "id": "eOLWpLtl07wb",
        "colab_type": "code",
        "colab": {
          "base_uri": "https://localhost:8080/",
          "height": 288
        },
        "outputId": "ac7f8fc5-2748-4983-bf38-d080b7d0487b"
      },
      "source": [
        "# creating a iterator \n",
        "# iter creates an object that allows us to go through the iterable of training loader one element at a time \n",
        "dataiter = iter(training_loader)\n",
        "images , labels = dataiter.next()\n",
        "#images, labels = dataiter.next() # gets first batch of training data\n",
        "fig = plt.figure(figsize =(25,4))\n",
        "\n",
        "for idx in np.arange(20):\n",
        "  ax =fig.add_subplot(2,10,idx+1,xticks =[],yticks =[])   # 2 rows 10 columns per row and index\n",
        "  plt.imshow(im_convert(images[idx]))\n",
        "  ax.set_title(labels[idx].item())"
      ],
      "execution_count": 5,
      "outputs": [
        {
          "output_type": "display_data",
          "data": {
            "image/png": "[encoded data removed]",
            "text/plain": [
              "<Figure size 1800x288 with 20 Axes>"
            ]
          },
          "metadata": {
            "tags": []
          }
        }
      ]
    },
    {
      "cell_type": "code",
      "metadata": {
        "id": "OhFNXSFZ5LnP",
        "colab_type": "code",
        "colab": {}
      },
      "source": [
        "class Classifier(nn.Module): # classifying layer by layer\n",
        "  def __init__(self, D_in , H1,H2, D_out):\n",
        "    super().__init__()\n",
        "    self.linear1 = nn.Linear(D_in,H1)\n",
        "    self.linear2 = nn.Linear(H1,H2)\n",
        "    self.linear3 = nn.Linear(H2,D_out)\n",
        "  \n",
        "  def forward(self,x):\n",
        "    x = F.relu(self.linear1(x))\n",
        "    x = F.relu(self.linear2(x))\n",
        "    x = self.linear3(x)\n",
        "    return x\n",
        "  "
      ],
      "execution_count": 0,
      "outputs": []
    },
    {
      "cell_type": "code",
      "metadata": {
        "id": "tppBANXDIX63",
        "colab_type": "code",
        "colab": {
          "base_uri": "https://localhost:8080/",
          "height": 101
        },
        "outputId": "cd96536f-f180-47f9-d62c-bbfaf5c212a7"
      },
      "source": [
        "model = Classifier(784, 125,65,10)  # classifier(no. of pixels that must be fed at input, no. of nodes at hidden layer 1,no. of nodes at hidden layer2,output size = no. of classes 0 to9)\n",
        "model"
      ],
      "execution_count": 7,
      "outputs": [
        {
          "output_type": "execute_result",
          "data": {
            "text/plain": [
              "Classifier(\n",
              "  (linear1): Linear(in_features=784, out_features=125, bias=True)\n",
              "  (linear2): Linear(in_features=125, out_features=65, bias=True)\n",
              "  (linear3): Linear(in_features=65, out_features=10, bias=True)\n",
              ")"
            ]
          },
          "metadata": {
            "tags": []
          },
          "execution_count": 7
        }
      ]
    },
    {
      "cell_type": "code",
      "metadata": {
        "id": "FBpye4dKJcMM",
        "colab_type": "code",
        "colab": {}
      },
      "source": [
        "# Loss function\n",
        "criterion = nn.CrossEntropyLoss()\n",
        "optimizer = torch.optim.Adam(model.parameters(), lr = 0.0001)"
      ],
      "execution_count": 0,
      "outputs": []
    },
    {
      "cell_type": "code",
      "metadata": {
        "id": "h8CjMWUUibJm",
        "colab_type": "code",
        "colab": {
          "base_uri": "https://localhost:8080/",
          "height": 773
        },
        "outputId": "e6304fb7-a8ab-4d84-a0da-25196df0794c"
      },
      "source": [
        "epochs = 15\n",
        "running_loss_history = []\n",
        "running_corrects_history = []\n",
        "val_running_loss_history = []\n",
        "val_running_corrects_history = []\n",
        " \n",
        "for e in range(epochs):\n",
        "  \n",
        "  running_loss = 0.0\n",
        "  running_corrects = 0.0\n",
        "  val_running_loss = 0.0\n",
        "  val_running_corrects = 0.0\n",
        "  \n",
        "  for inputs, labels in training_loader:\n",
        "    inputs = inputs.view(inputs.shape[0], -1)\n",
        "    outputs = model(inputs)\n",
        "    loss = criterion(outputs, labels)\n",
        "    \n",
        "    optimizer.zero_grad()\n",
        "    loss.backward()\n",
        "    optimizer.step()\n",
        "    \n",
        "    _, preds = torch.max(outputs, 1)\n",
        "    running_loss += loss.item()\n",
        "    running_corrects += torch.sum(preds == labels.data)\n",
        " \n",
        "  else:\n",
        "    with torch.no_grad():\n",
        "      for val_inputs, val_labels in validation_loader:\n",
        "        val_inputs = val_inputs.view(val_inputs.shape[0], -1)\n",
        "        val_outputs = model(val_inputs)\n",
        "        val_loss = criterion(val_outputs, val_labels)\n",
        "        \n",
        "        _, val_preds = torch.max(val_outputs, 1)\n",
        "        val_running_loss += val_loss.item()\n",
        "        val_running_corrects += torch.sum(val_preds == val_labels.data)\n",
        "      \n",
        "    epoch_loss = running_loss/len(training_loader)\n",
        "    epoch_acc = running_corrects.float()/ len(training_loader)\n",
        "    running_loss_history.append(epoch_loss)\n",
        "    running_corrects_history.append(epoch_acc)\n",
        "    \n",
        "    val_epoch_loss = val_running_loss/len(validation_loader)\n",
        "    val_epoch_acc = val_running_corrects.float()/ len(validation_loader)\n",
        "    val_running_loss_history.append(val_epoch_loss)\n",
        "    val_running_corrects_history.append(val_epoch_acc)\n",
        "    print('epoch :', (e+1))\n",
        "    print('training loss: {:.4f}, acc {:.4f} '.format(epoch_loss, epoch_acc.item()))\n",
        "    print('validation loss: {:.4f}, validation acc {:.4f} '.format(val_epoch_loss, val_epoch_acc.item()))"
      ],
      "execution_count": 9,
      "outputs": [
        {
          "output_type": "stream",
          "text": [
            "epoch : 1\n",
            "training loss: 0.9107, acc 77.9067 \n",
            "validation loss: 0.4322, validation acc 88.2733 \n",
            "epoch : 2\n",
            "training loss: 0.3696, acc 89.5983 \n",
            "validation loss: 0.3253, validation acc 90.7683 \n",
            "epoch : 3\n",
            "training loss: 0.3076, acc 91.0983 \n",
            "validation loss: 0.2854, validation acc 91.7783 \n",
            "epoch : 4\n",
            "training loss: 0.2733, acc 92.1233 \n",
            "validation loss: 0.2586, validation acc 92.5633 \n",
            "epoch : 5\n",
            "training loss: 0.2462, acc 92.9133 \n",
            "validation loss: 0.2297, validation acc 93.4917 \n",
            "epoch : 6\n",
            "training loss: 0.2236, acc 93.6883 \n",
            "validation loss: 0.2127, validation acc 94.0333 \n",
            "epoch : 7\n",
            "training loss: 0.2060, acc 94.0650 \n",
            "validation loss: 0.1922, validation acc 94.5650 \n",
            "epoch : 8\n",
            "training loss: 0.1891, acc 94.5750 \n",
            "validation loss: 0.1827, validation acc 94.6683 \n",
            "epoch : 9\n",
            "training loss: 0.1756, acc 94.9450 \n",
            "validation loss: 0.1654, validation acc 95.3250 \n",
            "epoch : 10\n",
            "training loss: 0.1639, acc 95.2917 \n",
            "validation loss: 0.1557, validation acc 95.4700 \n",
            "epoch : 11\n",
            "training loss: 0.1528, acc 95.5533 \n",
            "validation loss: 0.1434, validation acc 95.8117 \n",
            "epoch : 12\n",
            "training loss: 0.1439, acc 95.8300 \n",
            "validation loss: 0.1352, validation acc 96.1850 \n",
            "epoch : 13\n",
            "training loss: 0.1354, acc 96.0683 \n",
            "validation loss: 0.1259, validation acc 96.3617 \n",
            "epoch : 14\n",
            "training loss: 0.1271, acc 96.2767 \n",
            "validation loss: 0.1226, validation acc 96.4783 \n",
            "epoch : 15\n",
            "training loss: 0.1195, acc 96.5317 \n",
            "validation loss: 0.1116, validation acc 96.8267 \n"
          ],
          "name": "stdout"
        }
      ]
    },
    {
      "cell_type": "code",
      "metadata": {
        "id": "34Ud1QfpMa96",
        "colab_type": "code",
        "colab": {
          "base_uri": "https://localhost:8080/",
          "height": 286
        },
        "outputId": "17ad03be-fe18-4fda-d679-02c6a631fd73"
      },
      "source": [
        "plt.plot(running_loss_history, label = 'training loss')\n",
        "plt.plot(val_running_loss_history, label= 'validation loss')\n",
        "plt.legend()"
      ],
      "execution_count": 10,
      "outputs": [
        {
          "output_type": "execute_result",
          "data": {
            "text/plain": [
              "<matplotlib.legend.Legend at 0x7fd097feb908>"
            ]
          },
          "metadata": {
            "tags": []
          },
          "execution_count": 10
        },
        {
          "output_type": "display_data",
          "data": {
            "image/png": "[encoded data removed]",
            "text/plain": [
              "<Figure size 432x288 with 1 Axes>"
            ]
          },
          "metadata": {
            "tags": []
          }
        }
      ]
    },
    {
      "cell_type": "code",
      "metadata": {
        "id": "Eb0Rc6hcXucx",
        "colab_type": "code",
        "colab": {
          "base_uri": "https://localhost:8080/",
          "height": 286
        },
        "outputId": "7de69dfb-9d71-474a-ddd1-fe6c902b70e4"
      },
      "source": [
        "plt.plot(running_corrects_history ,label ='training accuracy')\n",
        "plt.plot(val_running_corrects_history, label='validation accuracy')\n",
        "plt.legend()"
      ],
      "execution_count": 11,
      "outputs": [
        {
          "output_type": "execute_result",
          "data": {
            "text/plain": [
              "<matplotlib.legend.Legend at 0x7fd097f09898>"
            ]
          },
          "metadata": {
            "tags": []
          },
          "execution_count": 11
        },
        {
          "output_type": "display_data",
          "data": {
            "image/png": "[encoded data removed]",
            "text/plain": [
              "<Figure size 432x288 with 1 Axes>"
            ]
          },
          "metadata": {
            "tags": []
          }
        }
      ]
    },
    {
      "cell_type": "code",
      "metadata": {
        "id": "Peaz8qG8pSK9",
        "colab_type": "code",
        "colab": {}
      },
      "source": [
        "import PIL.ImageOps"
      ],
      "execution_count": 0,
      "outputs": []
    },
    {
      "cell_type": "code",
      "metadata": {
        "id": "Wk6_fE9rZrVQ",
        "colab_type": "code",
        "colab": {
          "base_uri": "https://localhost:8080/",
          "height": 286
        },
        "outputId": "5873648f-f040-421c-ae3a-ce4dd867cb52"
      },
      "source": [
        "import requests\n",
        "from PIL import Image\n",
        "url ='https://images.homedepot-static.com/productImages/007164ea-d47e-4f66-8d8c-fd9f621984a2/svn/architectural-mailboxes-house-letters-numbers-3585b-5-64_1000.jpg'\n",
        "response = requests.get(url,stream = True)\n",
        "img = Image.open(response.raw)\n",
        "plt.imshow(img)\n",
        "print(response)"
      ],
      "execution_count": 13,
      "outputs": [
        {
          "output_type": "stream",
          "text": [
            "<Response [200]>\n"
          ],
          "name": "stdout"
        },
        {
          "output_type": "display_data",
          "data": {
            "image/png": "[encoded data removed]",
            "text/plain": [
              "<Figure size 432x288 with 1 Axes>"
            ]
          },
          "metadata": {
            "tags": []
          }
        }
      ]
    },
    {
      "cell_type": "code",
      "metadata": {
        "id": "Hf74pni2lWJV",
        "colab_type": "code",
        "colab": {
          "base_uri": "https://localhost:8080/",
          "height": 286
        },
        "outputId": "3747a706-ae5d-494b-a438-e60e202e6267"
      },
      "source": [
        "# the model is trained on black background and white image\n",
        "# above image is reverse ..converting above image to desired form\n",
        "\n",
        "img = PIL.ImageOps.invert(img)\n",
        "img = img.convert('1')\n",
        "img =transform(img)\n",
        "plt.imshow(im_convert(img))"
      ],
      "execution_count": 14,
      "outputs": [
        {
          "output_type": "execute_result",
          "data": {
            "text/plain": [
              "<matplotlib.image.AxesImage at 0x7fd0969d8828>"
            ]
          },
          "metadata": {
            "tags": []
          },
          "execution_count": 14
        },
        {
          "output_type": "display_data",
          "data": {
            "image/png": "[encoded data removed]",
            "text/plain": [
              "<Figure size 432x288 with 1 Axes>"
            ]
          },
          "metadata": {
            "tags": []
          }
        }
      ]
    },
    {
      "cell_type": "code",
      "metadata": {
        "id": "kVWjhUJrpN7r",
        "colab_type": "code",
        "colab": {
          "base_uri": "https://localhost:8080/",
          "height": 34
        },
        "outputId": "5e30b29c-9923-4fcd-84a9-63d91239ec22"
      },
      "source": [
        "img = img.view(img.shape[0], -1)\n",
        "output = model(img)\n",
        "_,pred = torch.max(output, 1)\n",
        "print(pred.item())"
      ],
      "execution_count": 15,
      "outputs": [
        {
          "output_type": "stream",
          "text": [
            "5\n"
          ],
          "name": "stdout"
        }
      ]
    },
    {
      "cell_type": "code",
      "metadata": {
        "id": "rTjG57R6q5Av",
        "colab_type": "code",
        "colab": {
          "base_uri": "https://localhost:8080/",
          "height": 288
        },
        "outputId": "75dca79b-3039-4894-d82f-4794039d311a"
      },
      "source": [
        "# creating a iterator \n",
        "# iter creates an object that allows us to go through the iterable of training loader one element at a time \n",
        "dataiter = iter(validation_loader)\n",
        "images , labels = dataiter.next()\n",
        "#images, labels = dataiter.next() # gets first batch of training data\n",
        "images_ = images.view(images.shape[0] ,-1)\n",
        "\n",
        "output = model(images_)\n",
        "_,preds = torch.max(output, 1)\n",
        "\n",
        "\n",
        "fig = plt.figure(figsize =(25,4))\n",
        "\n",
        "for idx in np.arange(20):\n",
        "  ax =fig.add_subplot(2,10,idx+1,xticks =[],yticks =[])   # 2 rows 10 columns per row and index\n",
        "  plt.imshow(im_convert(images[idx]))\n",
        "  ax.set_title(\" {} ({}) \".format(str(preds[idx].item()),str(labels[idx].item())), color= \"green\" if preds[idx]==labels[idx] else \"red\")"
      ],
      "execution_count": 16,
      "outputs": [
        {
          "output_type": "display_data",
          "data": {
            "image/png": "[encoded data removed]",
            "text/plain": [
              "<Figure size 1800x288 with 20 Axes>"
            ]
          },
          "metadata": {
            "tags": []
          }
        }
      ]
    },
    {
      "cell_type": "code",
      "metadata": {
        "id": "86KlUbaGsxGL",
        "colab_type": "code",
        "colab": {}
      },
      "source": [
        "# saving model\n",
        "\n",
        "torch.save(model.state_dict(), 'mnist.pth')"
      ],
      "execution_count": 0,
      "outputs": []
    },
    {
      "cell_type": "code",
      "metadata": {
        "id": "jqGwZkTKD1cA",
        "colab_type": "code",
        "colab": {
          "base_uri": "https://localhost:8080/",
          "height": 467
        },
        "outputId": "bb1f1a14-9bfe-4f99-8cc0-5f6daa89e601"
      },
      "source": [
        "# convert pytorch model to tensorflow model using OONX\n",
        "\n",
        "# STEP 1 - export trained model to oonx\n",
        "\n",
        "from torch.autograd import Variable\n",
        "\n",
        "# Load the trained model from file\n",
        "trained_model = Classifier(64, 1,28,28)\n",
        "trained_model.load_state_dict(torch.load('mnist.pth'))\n",
        "\n",
        "# Export the trained model to ONNX\n",
        "dummy_input = Variable(torch.randn(1,1,28,28)) # one black and white 28 x 28 picture will be the input to the model\n",
        "torch.onnx.export(trained_model,dummy_input, \"mnist.onnx\")"
      ],
      "execution_count": 42,
      "outputs": [
        {
          "output_type": "error",
          "ename": "RuntimeError",
          "evalue": "ignored",
          "traceback": [
            "\u001b[0;31m---------------------------------------------------------------------------\u001b[0m",
            "\u001b[0;31mRuntimeError\u001b[0m                              Traceback (most recent call last)",
            "\u001b[0;32m<ipython-input-42-947ee34ceff1>\u001b[0m in \u001b[0;36m<module>\u001b[0;34m()\u001b[0m\n\u001b[1;32m      4\u001b[0m \u001b[0;31m# Load the trained model from file\u001b[0m\u001b[0;34m\u001b[0m\u001b[0;34m\u001b[0m\u001b[0;34m\u001b[0m\u001b[0m\n\u001b[1;32m      5\u001b[0m \u001b[0mtrained_model\u001b[0m \u001b[0;34m=\u001b[0m \u001b[0mClassifier\u001b[0m\u001b[0;34m(\u001b[0m\u001b[0;36m64\u001b[0m\u001b[0;34m,\u001b[0m \u001b[0;36m1\u001b[0m\u001b[0;34m,\u001b[0m\u001b[0;36m28\u001b[0m\u001b[0;34m,\u001b[0m\u001b[0;36m28\u001b[0m\u001b[0;34m)\u001b[0m\u001b[0;34m\u001b[0m\u001b[0;34m\u001b[0m\u001b[0m\n\u001b[0;32m----> 6\u001b[0;31m \u001b[0mtrained_model\u001b[0m\u001b[0;34m.\u001b[0m\u001b[0mload_state_dict\u001b[0m\u001b[0;34m(\u001b[0m\u001b[0mtorch\u001b[0m\u001b[0;34m.\u001b[0m\u001b[0mload\u001b[0m\u001b[0;34m(\u001b[0m\u001b[0;34m'mnist.pth'\u001b[0m\u001b[0;34m)\u001b[0m\u001b[0;34m)\u001b[0m\u001b[0;34m\u001b[0m\u001b[0;34m\u001b[0m\u001b[0m\n\u001b[0m\u001b[1;32m      7\u001b[0m \u001b[0;34m\u001b[0m\u001b[0m\n\u001b[1;32m      8\u001b[0m \u001b[0;31m# Export the trained model to ONNX\u001b[0m\u001b[0;34m\u001b[0m\u001b[0;34m\u001b[0m\u001b[0;34m\u001b[0m\u001b[0m\n",
            "\u001b[0;32m/usr/local/lib/python3.6/dist-packages/torch/nn/modules/module.py\u001b[0m in \u001b[0;36mload_state_dict\u001b[0;34m(self, state_dict, strict)\u001b[0m\n\u001b[1;32m    775\u001b[0m         \u001b[0;32mif\u001b[0m \u001b[0mlen\u001b[0m\u001b[0;34m(\u001b[0m\u001b[0merror_msgs\u001b[0m\u001b[0;34m)\u001b[0m \u001b[0;34m>\u001b[0m \u001b[0;36m0\u001b[0m\u001b[0;34m:\u001b[0m\u001b[0;34m\u001b[0m\u001b[0;34m\u001b[0m\u001b[0m\n\u001b[1;32m    776\u001b[0m             raise RuntimeError('Error(s) in loading state_dict for {}:\\n\\t{}'.format(\n\u001b[0;32m--> 777\u001b[0;31m                                self.__class__.__name__, \"\\n\\t\".join(error_msgs)))\n\u001b[0m\u001b[1;32m    778\u001b[0m         \u001b[0;32mreturn\u001b[0m \u001b[0m_IncompatibleKeys\u001b[0m\u001b[0;34m(\u001b[0m\u001b[0mmissing_keys\u001b[0m\u001b[0;34m,\u001b[0m \u001b[0munexpected_keys\u001b[0m\u001b[0;34m)\u001b[0m\u001b[0;34m\u001b[0m\u001b[0;34m\u001b[0m\u001b[0m\n\u001b[1;32m    779\u001b[0m \u001b[0;34m\u001b[0m\u001b[0m\n",
            "\u001b[0;31mRuntimeError\u001b[0m: Error(s) in loading state_dict for Classifier:\n\tsize mismatch for linear1.weight: copying a param with shape torch.Size([125, 784]) from checkpoint, the shape in current model is torch.Size([1, 64]).\n\tsize mismatch for linear1.bias: copying a param with shape torch.Size([125]) from checkpoint, the shape in current model is torch.Size([1]).\n\tsize mismatch for linear2.weight: copying a param with shape torch.Size([65, 125]) from checkpoint, the shape in current model is torch.Size([28, 1]).\n\tsize mismatch for linear2.bias: copying a param with shape torch.Size([65]) from checkpoint, the shape in current model is torch.Size([28]).\n\tsize mismatch for linear3.weight: copying a param with shape torch.Size([10, 65]) from checkpoint, the shape in current model is torch.Size([28, 28]).\n\tsize mismatch for linear3.bias: copying a param with shape torch.Size([10]) from checkpoint, the shape in current model is torch.Size([28])."
          ]
        }
      ]
    },
    {
      "cell_type": "code",
      "metadata": {
        "id": "jdSGjJaxcMGC",
        "colab_type": "code",
        "colab": {}
      },
      "source": [
        ""
      ],
      "execution_count": 0,
      "outputs": []
    }
  ]
}