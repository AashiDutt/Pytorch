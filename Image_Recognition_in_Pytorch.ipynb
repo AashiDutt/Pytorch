{
  "nbformat": 4,
  "nbformat_minor": 0,
  "metadata": {
    "colab": {
      "name": "Image_Recognition_in_Pytorch.ipynb",
      "version": "0.3.2",
      "provenance": [],
      "collapsed_sections": [],
      "toc_visible": true,
      "include_colab_link": true
    },
    "kernelspec": {
      "name": "python3",
      "display_name": "Python 3"
    }
  },
  "cells": [
    {
      "cell_type": "markdown",
      "metadata": {
        "id": "view-in-github",
        "colab_type": "text"
      },
      "source": [
        "<a href=\"https://colab.research.google.com/github/AashiDutt/Pytorch/blob/master/Image_Recognition_in_Pytorch.ipynb\" target=\"_parent\"><img src=\"https://colab.research.google.com/assets/colab-badge.svg\" alt=\"Open In Colab\"/></a>"
      ]
    },
    {
      "cell_type": "markdown",
      "metadata": {
        "id": "qhUDFHZ7Vrct",
        "colab_type": "text"
      },
      "source": [
        "In this repository we will look through Image Recognition using Pytorch using MNIST dataset and using validation datset."
      ]
    },
    {
      "cell_type": "markdown",
      "metadata": {
        "id": "nj69FmMoYE-7",
        "colab_type": "text"
      },
      "source": [
        "softmax activation function capable of dealing with multiclass datasets\n",
        "\n",
        "## MNIST dataset is input to neural network in form of pixels i.e(28 X 28 = 784 pixels).\n",
        "\n",
        "1. Therefore our input nodes of neural network must be equal to 784 nodes.\n",
        "\n",
        "2.while the output classify numbers between 0 to 9 therefore no. of output nodes = 10"
      ]
    },
    {
      "cell_type": "markdown",
      "metadata": {
        "id": "O9PSiRU0MevC",
        "colab_type": "text"
      },
      "source": [
        "## Split large dataset into training and test dataset\n",
        "  \n",
        " **Generalization** - the ability to correctly classify data which has never been seen before and has no labels.\n",
        "  \n",
        "he more minimized the training error the greater will be the test error\n",
        "  \n",
        " small training error = underfitting\n",
        "  \n",
        " gap between test and training error grows larger = overfitting\n",
        "  \n",
        "** Underfitting** - model with insufficient capacity are unable to solve complex tasks.\n",
        "\n",
        "**Overfitting **- when model performs better on train data than test data\n",
        "  \n",
        "**Reducing overfitting **\n",
        "1. Reduce depth and complexity of model\n",
        "2. reduce no. of nodes\n",
        "3. reduce no. of epochs\n",
        "\n",
        "**Generalization error** (also known as the out-of-sample error) is a measure of how accurately an algorithm is able to predict outcome values for previously unseen data.\n",
        "  \n",
        "**Regularization** - helps to reduce Generalization error."
      ]
    },
    {
      "cell_type": "code",
      "metadata": {
        "id": "f0eGbGXyT29N",
        "colab_type": "code",
        "outputId": "6e3a1b88-ee80-4014-8e13-29e869f95d00",
        "colab": {
          "base_uri": "https://localhost:8080/",
          "height": 118
        }
      },
      "source": [
        "# CODE\n",
        "\n",
        "# Loading Images and Transforms\n",
        "\n",
        "!pip3 install torch torchvision"
      ],
      "execution_count": 1,
      "outputs": [
        {
          "output_type": "stream",
          "text": [
            "Requirement already satisfied: torch in /usr/local/lib/python3.6/dist-packages (1.1.0)\n",
            "Requirement already satisfied: torchvision in /usr/local/lib/python3.6/dist-packages (0.3.0)\n",
            "Requirement already satisfied: numpy in /usr/local/lib/python3.6/dist-packages (from torch) (1.16.4)\n",
            "Requirement already satisfied: pillow>=4.1.1 in /usr/local/lib/python3.6/dist-packages (from torchvision) (4.3.0)\n",
            "Requirement already satisfied: six in /usr/local/lib/python3.6/dist-packages (from torchvision) (1.12.0)\n",
            "Requirement already satisfied: olefile in /usr/local/lib/python3.6/dist-packages (from pillow>=4.1.1->torchvision) (0.46)\n"
          ],
          "name": "stdout"
        }
      ]
    },
    {
      "cell_type": "code",
      "metadata": {
        "id": "M0FdKKoESvgO",
        "colab_type": "code",
        "colab": {}
      },
      "source": [
        "import torch\n",
        "from torchvision import datasets, transforms\n",
        "\n",
        "# transformations are used to preprocess the dataset before it is fed to neural network\n",
        "from torch import nn\n",
        "import torch.nn.functional as F\n",
        "import matplotlib.pyplot as plt\n",
        "import numpy as np"
      ],
      "execution_count": 0,
      "outputs": []
    },
    {
      "cell_type": "code",
      "metadata": {
        "id": "B2aYwcp8TKpp",
        "colab_type": "code",
        "outputId": "65c0b512-6524-4f91-c9f7-9408ceaacd98",
        "colab": {
          "base_uri": "https://localhost:8080/",
          "height": 322
        }
      },
      "source": [
        "transform = transforms.Compose([transforms.Resize((28,28)),transforms.ToTensor(),transforms.Normalize((0.5,),(0.5,))])\n",
        "#Compose allows us to chain together transformations\n",
        "\n",
        "#we chose value 0.5 because we want values in range 0 to 1,creating a range (-1 to 1)\n",
        "\n",
        "# Normalizing the image \n",
        "# formula z = (x - mean)/ standard deviation\n",
        "# eg. (min value - mean)/standard deviation = (0-0.5)/0.5 = -1\n",
        "# (max value- mean)/sd = (1-0.5)/0.5 =1  therefore range = (-1,1)\n",
        "\n",
        "#Normalize((0.5,0.5,0.5),(0.5,0.5,0.5)) = Normalize(mean,standard deviation)\n",
        "#Normalize the value of each tensor of image size channel height and widthin 1st set of brackets\n",
        "#converts numpy array(of range 0-255) to tensor (a float tensor in range 0 to 1)\n",
        "\n",
        "# defining root directory of training_dataset\n",
        "training_dataset = datasets.MNIST(root ='./data', train = True, download = True,transform =transform )\n",
        "validation_dataset = datasets.MNIST(root ='./data', train = False, download = True,transform =transform )\n",
        "print(\"Length: \", len(validation_dataset.test_data))\n",
        "\n",
        "training_loader = torch.utils.data.DataLoader(dataset = training_dataset, batch_size = 100, shuffle = True)\n",
        "validation_loader =torch.utils.data.DataLoader(dataset = training_dataset, batch_size = 100, shuffle = False)"
      ],
      "execution_count": 3,
      "outputs": [
        {
          "output_type": "stream",
          "text": [
            "  0%|          | 16384/9912422 [00:00<01:15, 131025.02it/s]"
          ],
          "name": "stderr"
        },
        {
          "output_type": "stream",
          "text": [
            "Downloading http://yann.lecun.com/exdb/mnist/train-images-idx3-ubyte.gz to ./data/MNIST/raw/train-images-idx3-ubyte.gz\n"
          ],
          "name": "stdout"
        },
        {
          "output_type": "stream",
          "text": [
            "9920512it [00:00, 29542987.27it/s]                           \n"
          ],
          "name": "stderr"
        },
        {
          "output_type": "stream",
          "text": [
            "Extracting ./data/MNIST/raw/train-images-idx3-ubyte.gz\n"
          ],
          "name": "stdout"
        },
        {
          "output_type": "stream",
          "text": [
            "32768it [00:00, 432123.23it/s]\n",
            "0it [00:00, ?it/s]"
          ],
          "name": "stderr"
        },
        {
          "output_type": "stream",
          "text": [
            "Downloading http://yann.lecun.com/exdb/mnist/train-labels-idx1-ubyte.gz to ./data/MNIST/raw/train-labels-idx1-ubyte.gz\n",
            "Extracting ./data/MNIST/raw/train-labels-idx1-ubyte.gz\n",
            "Downloading http://yann.lecun.com/exdb/mnist/t10k-images-idx3-ubyte.gz to ./data/MNIST/raw/t10k-images-idx3-ubyte.gz\n"
          ],
          "name": "stdout"
        },
        {
          "output_type": "stream",
          "text": [
            "1654784it [00:00, 6794709.99it/s]                           \n",
            "8192it [00:00, 163964.47it/s]\n"
          ],
          "name": "stderr"
        },
        {
          "output_type": "stream",
          "text": [
            "Extracting ./data/MNIST/raw/t10k-images-idx3-ubyte.gz\n",
            "Downloading http://yann.lecun.com/exdb/mnist/t10k-labels-idx1-ubyte.gz to ./data/MNIST/raw/t10k-labels-idx1-ubyte.gz\n",
            "Extracting ./data/MNIST/raw/t10k-labels-idx1-ubyte.gz\n",
            "Processing...\n",
            "Done!\n",
            "Length:  10000\n"
          ],
          "name": "stdout"
        },
        {
          "output_type": "stream",
          "text": [
            "/usr/local/lib/python3.6/dist-packages/torchvision/datasets/mnist.py:58: UserWarning: test_data has been renamed data\n",
            "  warnings.warn(\"test_data has been renamed data\")\n"
          ],
          "name": "stderr"
        }
      ]
    },
    {
      "cell_type": "code",
      "metadata": {
        "id": "Isl1itf_wWef",
        "colab_type": "code",
        "colab": {}
      },
      "source": [
        "# to plot an image convert it again to a numpy array\n",
        "def im_convert(tensor):\n",
        "  image = tensor.clone().detach().numpy()\n",
        "  # clone to create new copy of tensor\n",
        "  # use detach function to call numpy\n",
        "  \n",
        "  image = image.transpose(1,2,0)\n",
        "  # we have shape of tensor as(1,28,28)(single colorchannel,shape(28,28)) but to plot a grayscale image we need tensor of shape (28,28,1)\n",
        "  # we swap axis using transpose means swap axis 0 for axis 1, axis 1 fo axis 2 and axis 0 in the end\n",
        "  #print(image.shape)\n",
        "  # denormalizing the image\n",
        "  # x=z * standard deviation + mean\n",
        "  \n",
        "  image = image *np.array((0.5,0.5,0.5)) + np.array((0.5,0.5,0.5))\n",
        "  image = image.clip(0,1)\n",
        "  # to reconvert range from (-1,1) to (1,1) we use clip function\n",
        "  return image\n"
      ],
      "execution_count": 0,
      "outputs": []
    },
    {
      "cell_type": "code",
      "metadata": {
        "id": "eOLWpLtl07wb",
        "colab_type": "code",
        "outputId": "45ffaed0-1248-4fe3-bdbd-d9acdf631f1f",
        "colab": {
          "base_uri": "https://localhost:8080/",
          "height": 288
        }
      },
      "source": [
        "# creating a iterator \n",
        "# iter creates an object that allows us to go through the iterable of training loader one element at a time \n",
        "dataiter = iter(training_loader)\n",
        "images , labels = dataiter.next()\n",
        "#images, labels = dataiter.next() # gets first batch of training data\n",
        "fig = plt.figure(figsize =(25,4))\n",
        "\n",
        "for idx in np.arange(20):\n",
        "  ax =fig.add_subplot(2,10,idx+1,xticks =[],yticks =[])   # 2 rows 10 columns per row and index\n",
        "  plt.imshow(im_convert(images[idx]))\n",
        "  ax.set_title(labels[idx].item())"
      ],
      "execution_count": 5,
      "outputs": [
        {
          "output_type": "display_data",
          "data": {
            "image/png": "[encoded data removed]",
            "text/plain": [
              "<Figure size 1800x288 with 20 Axes>"
            ]
          },
          "metadata": {
            "tags": []
          }
        }
      ]
    },
    {
      "cell_type": "code",
      "metadata": {
        "id": "OhFNXSFZ5LnP",
        "colab_type": "code",
        "colab": {}
      },
      "source": [
        "class Classifier(nn.Module): # classifying layer by layer\n",
        "  def __init__(self, D_in , H1,H2, D_out):\n",
        "    super().__init__()\n",
        "    self.linear1 = nn.Linear(D_in,H1)\n",
        "    self.linear2 = nn.Linear(H1,H2)\n",
        "    self.linear3 = nn.Linear(H2,D_out)\n",
        "  \n",
        "  def forward(self,x):\n",
        "    x = F.relu(self.linear1(x))\n",
        "    x = F.relu(self.linear2(x))\n",
        "    x = self.linear3(x)\n",
        "    return x\n",
        "  "
      ],
      "execution_count": 0,
      "outputs": []
    },
    {
      "cell_type": "code",
      "metadata": {
        "id": "tppBANXDIX63",
        "colab_type": "code",
        "outputId": "9ace1a14-581f-426b-9ee4-099755e38b22",
        "colab": {
          "base_uri": "https://localhost:8080/",
          "height": 101
        }
      },
      "source": [
        "model = Classifier(784, 125,65,10)  # classifier(no. of pixels that must be fed at input, no. of nodes at hidden layer 1,no. of nodes at hidden layer2,output size = no. of classes 0 to9)\n",
        "model"
      ],
      "execution_count": 7,
      "outputs": [
        {
          "output_type": "execute_result",
          "data": {
            "text/plain": [
              "Classifier(\n",
              "  (linear1): Linear(in_features=784, out_features=125, bias=True)\n",
              "  (linear2): Linear(in_features=125, out_features=65, bias=True)\n",
              "  (linear3): Linear(in_features=65, out_features=10, bias=True)\n",
              ")"
            ]
          },
          "metadata": {
            "tags": []
          },
          "execution_count": 7
        }
      ]
    },
    {
      "cell_type": "code",
      "metadata": {
        "id": "FBpye4dKJcMM",
        "colab_type": "code",
        "colab": {}
      },
      "source": [
        "# Loss function\n",
        "criterion = nn.CrossEntropyLoss()\n",
        "optimizer = torch.optim.Adam(model.parameters(), lr = 0.0001)"
      ],
      "execution_count": 0,
      "outputs": []
    },
    {
      "cell_type": "code",
      "metadata": {
        "id": "h8CjMWUUibJm",
        "colab_type": "code",
        "outputId": "fed2e862-c6b9-4422-9523-2058fb0bf53b",
        "colab": {
          "base_uri": "https://localhost:8080/",
          "height": 773
        }
      },
      "source": [
        "epochs = 15\n",
        "running_loss_history = []\n",
        "running_corrects_history = []\n",
        "val_running_loss_history = []\n",
        "val_running_corrects_history = []\n",
        " \n",
        "for e in range(epochs):\n",
        "  \n",
        "  running_loss = 0.0\n",
        "  running_corrects = 0.0\n",
        "  val_running_loss = 0.0\n",
        "  val_running_corrects = 0.0\n",
        "  \n",
        "  for inputs, labels in training_loader:\n",
        "    inputs = inputs.view(inputs.shape[0], -1)\n",
        "    outputs = model(inputs)\n",
        "    loss = criterion(outputs, labels)\n",
        "    \n",
        "    optimizer.zero_grad()\n",
        "    loss.backward()\n",
        "    optimizer.step()\n",
        "    \n",
        "    _, preds = torch.max(outputs, 1)\n",
        "    running_loss += loss.item()\n",
        "    running_corrects += torch.sum(preds == labels.data)\n",
        " \n",
        "  else:\n",
        "    with torch.no_grad():\n",
        "      for val_inputs, val_labels in validation_loader:\n",
        "        val_inputs = val_inputs.view(val_inputs.shape[0], -1)\n",
        "        val_outputs = model(val_inputs)\n",
        "        val_loss = criterion(val_outputs, val_labels)\n",
        "        \n",
        "        _, val_preds = torch.max(val_outputs, 1)\n",
        "        val_running_loss += val_loss.item()\n",
        "        val_running_corrects += torch.sum(val_preds == val_labels.data)\n",
        "      \n",
        "    epoch_loss = running_loss/len(training_loader)\n",
        "    epoch_acc = running_corrects.float()/ len(training_loader)\n",
        "    running_loss_history.append(epoch_loss)\n",
        "    running_corrects_history.append(epoch_acc)\n",
        "    \n",
        "    val_epoch_loss = val_running_loss/len(validation_loader)\n",
        "    val_epoch_acc = val_running_corrects.float()/ len(validation_loader)\n",
        "    val_running_loss_history.append(val_epoch_loss)\n",
        "    val_running_corrects_history.append(val_epoch_acc)\n",
        "    print('epoch :', (e+1))\n",
        "    print('training loss: {:.4f}, acc {:.4f} '.format(epoch_loss, epoch_acc.item()))\n",
        "    print('validation loss: {:.4f}, validation acc {:.4f} '.format(val_epoch_loss, val_epoch_acc.item()))"
      ],
      "execution_count": 9,
      "outputs": [
        {
          "output_type": "stream",
          "text": [
            "epoch : 1\n",
            "training loss: 0.9540, acc 75.5433 \n",
            "validation loss: 0.4431, validation acc 87.9833 \n",
            "epoch : 2\n",
            "training loss: 0.3776, acc 89.3683 \n",
            "validation loss: 0.3325, validation acc 90.4900 \n",
            "epoch : 3\n",
            "training loss: 0.3163, acc 90.7983 \n",
            "validation loss: 0.3001, validation acc 91.2667 \n",
            "epoch : 4\n",
            "training loss: 0.2841, acc 91.7217 \n",
            "validation loss: 0.2669, validation acc 92.2283 \n",
            "epoch : 5\n",
            "training loss: 0.2588, acc 92.3950 \n",
            "validation loss: 0.2442, validation acc 92.8167 \n",
            "epoch : 6\n",
            "training loss: 0.2376, acc 93.0950 \n",
            "validation loss: 0.2324, validation acc 93.1250 \n",
            "epoch : 7\n",
            "training loss: 0.2193, acc 93.6933 \n",
            "validation loss: 0.2046, validation acc 94.1417 \n",
            "epoch : 8\n",
            "training loss: 0.2034, acc 94.1717 \n",
            "validation loss: 0.1946, validation acc 94.5067 \n",
            "epoch : 9\n",
            "training loss: 0.1889, acc 94.5967 \n",
            "validation loss: 0.1773, validation acc 94.9467 \n",
            "epoch : 10\n",
            "training loss: 0.1759, acc 94.9167 \n",
            "validation loss: 0.1676, validation acc 95.2617 \n",
            "epoch : 11\n",
            "training loss: 0.1643, acc 95.2900 \n",
            "validation loss: 0.1598, validation acc 95.3633 \n",
            "epoch : 12\n",
            "training loss: 0.1542, acc 95.5750 \n",
            "validation loss: 0.1468, validation acc 95.8067 \n",
            "epoch : 13\n",
            "training loss: 0.1454, acc 95.7833 \n",
            "validation loss: 0.1387, validation acc 96.0100 \n",
            "epoch : 14\n",
            "training loss: 0.1371, acc 96.0000 \n",
            "validation loss: 0.1290, validation acc 96.2583 \n",
            "epoch : 15\n",
            "training loss: 0.1300, acc 96.2517 \n",
            "validation loss: 0.1224, validation acc 96.5183 \n"
          ],
          "name": "stdout"
        }
      ]
    },
    {
      "cell_type": "code",
      "metadata": {
        "id": "34Ud1QfpMa96",
        "colab_type": "code",
        "outputId": "048cbb9d-8a1f-4e05-87ef-20d423039b2b",
        "colab": {
          "base_uri": "https://localhost:8080/",
          "height": 286
        }
      },
      "source": [
        "plt.plot(running_loss_history, label = 'training loss')\n",
        "plt.plot(val_running_loss_history, label= 'validation loss')\n",
        "plt.legend()"
      ],
      "execution_count": 10,
      "outputs": [
        {
          "output_type": "execute_result",
          "data": {
            "text/plain": [
              "<matplotlib.legend.Legend at 0x7fca8a1b35f8>"
            ]
          },
          "metadata": {
            "tags": []
          },
          "execution_count": 10
        },
        {
          "output_type": "display_data",
          "data": {
            "image/png": "[encoded data removed]",
            "text/plain": [
              "<Figure size 432x288 with 1 Axes>"
            ]
          },
          "metadata": {
            "tags": []
          }
        }
      ]
    },
    {
      "cell_type": "code",
      "metadata": {
        "id": "Eb0Rc6hcXucx",
        "colab_type": "code",
        "outputId": "71d75b69-052f-464d-8292-36c15a8ba059",
        "colab": {
          "base_uri": "https://localhost:8080/",
          "height": 286
        }
      },
      "source": [
        "plt.plot(running_corrects_history ,label ='training accuracy')\n",
        "plt.plot(val_running_corrects_history, label='validation accuracy')\n",
        "plt.legend()"
      ],
      "execution_count": 11,
      "outputs": [
        {
          "output_type": "execute_result",
          "data": {
            "text/plain": [
              "<matplotlib.legend.Legend at 0x7fca8a332c18>"
            ]
          },
          "metadata": {
            "tags": []
          },
          "execution_count": 11
        },
        {
          "output_type": "display_data",
          "data": {
            "image/png": "[encoded data removed]",
            "text/plain": [
              "<Figure size 432x288 with 1 Axes>"
            ]
          },
          "metadata": {
            "tags": []
          }
        }
      ]
    },
    {
      "cell_type": "code",
      "metadata": {
        "id": "Peaz8qG8pSK9",
        "colab_type": "code",
        "colab": {}
      },
      "source": [
        "\n",
        "import PIL.ImageOps"
      ],
      "execution_count": 0,
      "outputs": []
    },
    {
      "cell_type": "code",
      "metadata": {
        "id": "Wk6_fE9rZrVQ",
        "colab_type": "code",
        "outputId": "ea5b80e3-2251-46ff-adcc-e131e3dc6c13",
        "colab": {
          "base_uri": "https://localhost:8080/",
          "height": 286
        }
      },
      "source": [
        "import requests\n",
        "from PIL import Image\n",
        "url ='https://images.homedepot-static.com/productImages/007164ea-d47e-4f66-8d8c-fd9f621984a2/svn/architectural-mailboxes-house-letters-numbers-3585b-5-64_1000.jpg'\n",
        "response = requests.get(url,stream = True)\n",
        "img = Image.open(response.raw)\n",
        "plt.imshow(img)\n",
        "print(response)"
      ],
      "execution_count": 13,
      "outputs": [
        {
          "output_type": "stream",
          "text": [
            "<Response [200]>\n"
          ],
          "name": "stdout"
        },
        {
          "output_type": "display_data",
          "data": {
            "image/png": "[encoded data removed]",
            "text/plain": [
              "<Figure size 432x288 with 1 Axes>"
            ]
          },
          "metadata": {
            "tags": []
          }
        }
      ]
    },
    {
      "cell_type": "code",
      "metadata": {
        "id": "Hf74pni2lWJV",
        "colab_type": "code",
        "outputId": "df1cb877-e238-43dc-c740-00fd85c02c04",
        "colab": {
          "base_uri": "https://localhost:8080/",
          "height": 286
        }
      },
      "source": [
        "# the model is trained on black background and white image\n",
        "# above image is reverse ..converting above image to desired form\n",
        "\n",
        "img = PIL.ImageOps.invert(img)\n",
        "img = img.convert('1')\n",
        "img =transform(img)\n",
        "plt.imshow(im_convert(img))"
      ],
      "execution_count": 14,
      "outputs": [
        {
          "output_type": "execute_result",
          "data": {
            "text/plain": [
              "<matplotlib.image.AxesImage at 0x7fca8a2158d0>"
            ]
          },
          "metadata": {
            "tags": []
          },
          "execution_count": 14
        },
        {
          "output_type": "display_data",
          "data": {
            "image/png": "[encoded data removed]",
            "text/plain": [
              "<Figure size 432x288 with 1 Axes>"
            ]
          },
          "metadata": {
            "tags": []
          }
        }
      ]
    },
    {
      "cell_type": "code",
      "metadata": {
        "id": "kVWjhUJrpN7r",
        "colab_type": "code",
        "outputId": "deb1b039-6328-43a6-d8af-25b72da93e11",
        "colab": {
          "base_uri": "https://localhost:8080/",
          "height": 34
        }
      },
      "source": [
        "img = img.view(img.shape[0], -1)\n",
        "output = model(img)\n",
        "_,pred = torch.max(output, 1)\n",
        "print(pred.item())"
      ],
      "execution_count": 15,
      "outputs": [
        {
          "output_type": "stream",
          "text": [
            "5\n"
          ],
          "name": "stdout"
        }
      ]
    },
    {
      "cell_type": "code",
      "metadata": {
        "id": "rTjG57R6q5Av",
        "colab_type": "code",
        "outputId": "b4a90152-1a9e-442a-bcf3-a0d11f8a5ffc",
        "colab": {
          "base_uri": "https://localhost:8080/",
          "height": 288
        }
      },
      "source": [
        "# creating a iterator \n",
        "# iter creates an object that allows us to go through the iterable of training loader one element at a time \n",
        "dataiter = iter(validation_loader)\n",
        "images , labels = dataiter.next()\n",
        "#images, labels = dataiter.next() # gets first batch of training data\n",
        "images_ = images.view(images.shape[0] ,-1)\n",
        "\n",
        "output = model(images_)\n",
        "_,preds = torch.max(output, 1)\n",
        "\n",
        "\n",
        "fig = plt.figure(figsize =(25,4))\n",
        "\n",
        "for idx in np.arange(20):\n",
        "  ax =fig.add_subplot(2,10,idx+1,xticks =[],yticks =[])   # 2 rows 10 columns per row and index\n",
        "  plt.imshow(im_convert(images[idx]))\n",
        "  ax.set_title(\" {} ({}) \".format(str(preds[idx].item()),str(labels[idx].item())), color= \"green\" if preds[idx]==labels[idx] else \"red\")"
      ],
      "execution_count": 16,
      "outputs": [
        {
          "output_type": "display_data",
          "data": {
            "image/png": "[encoded data removed]",
            "text/plain": [
              "<Figure size 1800x288 with 20 Axes>"
            ]
          },
          "metadata": {
            "tags": []
          }
        }
      ]
    },
    {
      "cell_type": "code",
      "metadata": {
        "id": "86KlUbaGsxGL",
        "colab_type": "code",
        "colab": {}
      },
      "source": [
        "# saving model\n",
        "\n",
        "torch.save(model.state_dict(), 'mnist.pth')"
      ],
      "execution_count": 0,
      "outputs": []
    },
    {
      "cell_type": "code",
      "metadata": {
        "id": "jqGwZkTKD1cA",
        "colab_type": "code",
        "colab": {}
      },
      "source": [
        "# convert pytorch model to tensorflow model using OONX\n",
        "\n",
        "# STEP 1 - export trained model to oonx\n",
        "\n",
        "from torch.autograd import Variable\n",
        "\n",
        "#X_test = np.random.randn(len(validation_dataset.test_data), 784).astype(np.float32)\n",
        "#print(\"Actual: \", X_test[0].shape)\n",
        "#print(\"Reshaped: \", X_test[0].reshape(1, -1).shape)\n",
        "\n",
        "# Load the trained model from file\n",
        "trained_model = Classifier(784, 125,65,10)\n",
        "trained_model.load_state_dict(torch.load('mnist.pth'))\n",
        "\n",
        "# Export the trained model to ONNX\n",
        "dummy_input = Variable(torch.randn(1, 784)) # one black and white 28 x 28 picture will be the input to the model\n",
        "torch.onnx.export(trained_model,dummy_input, \"mnist.onnx\")"
      ],
      "execution_count": 0,
      "outputs": []
    },
    {
      "cell_type": "code",
      "metadata": {
        "id": "fTzxnQ6dp-Hs",
        "colab_type": "code",
        "outputId": "4a2de8b7-fafc-4bfc-f900-2b96fa453ecb",
        "colab": {
          "base_uri": "https://localhost:8080/",
          "height": 524
        }
      },
      "source": [
        "!pip3 install onnx\n",
        "!pip3 install onnx-tf"
      ],
      "execution_count": 19,
      "outputs": [
        {
          "output_type": "stream",
          "text": [
            "Collecting onnx\n",
            "\u001b[?25l  Downloading https://files.pythonhosted.org/packages/88/50/e4a5a869093f35884d1fd95b46b24705ab27adb7e562a2a307523c043be3/onnx-1.5.0-cp36-cp36m-manylinux1_x86_64.whl (7.0MB)\n",
            "\u001b[K     |████████████████████████████████| 7.1MB 2.8MB/s \n",
            "\u001b[?25hRequirement already satisfied: numpy in /usr/local/lib/python3.6/dist-packages (from onnx) (1.16.4)\n",
            "Requirement already satisfied: typing>=3.6.4 in /usr/local/lib/python3.6/dist-packages (from onnx) (3.7.4)\n",
            "Requirement already satisfied: protobuf in /usr/local/lib/python3.6/dist-packages (from onnx) (3.7.1)\n",
            "Collecting typing-extensions>=3.6.2.1 (from onnx)\n",
            "  Downloading https://files.pythonhosted.org/packages/27/aa/bd1442cfb0224da1b671ab334d3b0a4302e4161ea916e28904ff9618d471/typing_extensions-3.7.4-py3-none-any.whl\n",
            "Requirement already satisfied: six in /usr/local/lib/python3.6/dist-packages (from onnx) (1.12.0)\n",
            "Requirement already satisfied: setuptools in /usr/local/lib/python3.6/dist-packages (from protobuf->onnx) (41.0.1)\n",
            "Installing collected packages: typing-extensions, onnx\n",
            "Successfully installed onnx-1.5.0 typing-extensions-3.7.4\n",
            "Collecting onnx-tf\n",
            "\u001b[?25l  Downloading https://files.pythonhosted.org/packages/be/fb/6b8762a3d2e496a23857ba97a5299f9382dbdc7525915dbd8d12547bc370/onnx-tf-1.2.1.tar.gz (74kB)\n",
            "\u001b[K     |████████████████████████████████| 81kB 3.1MB/s \n",
            "\u001b[?25hRequirement already satisfied: onnx>=1.1.2 in /usr/local/lib/python3.6/dist-packages (from onnx-tf) (1.5.0)\n",
            "Requirement already satisfied: PyYAML in /usr/local/lib/python3.6/dist-packages (from onnx-tf) (3.13)\n",
            "Requirement already satisfied: typing-extensions>=3.6.2.1 in /usr/local/lib/python3.6/dist-packages (from onnx>=1.1.2->onnx-tf) (3.7.4)\n",
            "Requirement already satisfied: six in /usr/local/lib/python3.6/dist-packages (from onnx>=1.1.2->onnx-tf) (1.12.0)\n",
            "Requirement already satisfied: numpy in /usr/local/lib/python3.6/dist-packages (from onnx>=1.1.2->onnx-tf) (1.16.4)\n",
            "Requirement already satisfied: typing>=3.6.4 in /usr/local/lib/python3.6/dist-packages (from onnx>=1.1.2->onnx-tf) (3.7.4)\n",
            "Requirement already satisfied: protobuf in /usr/local/lib/python3.6/dist-packages (from onnx>=1.1.2->onnx-tf) (3.7.1)\n",
            "Requirement already satisfied: setuptools in /usr/local/lib/python3.6/dist-packages (from protobuf->onnx>=1.1.2->onnx-tf) (41.0.1)\n",
            "Building wheels for collected packages: onnx-tf\n",
            "  Building wheel for onnx-tf (setup.py) ... \u001b[?25l\u001b[?25hdone\n",
            "  Stored in directory: /root/.cache/pip/wheels/85/a7/ca/b93a3a72d634bbe0030d043bb9b846e70b039806a020bb6ba8\n",
            "Successfully built onnx-tf\n",
            "Installing collected packages: onnx-tf\n",
            "Successfully installed onnx-tf-1.2.1\n"
          ],
          "name": "stdout"
        }
      ]
    },
    {
      "cell_type": "code",
      "metadata": {
        "id": "jdSGjJaxcMGC",
        "colab_type": "code",
        "outputId": "f2410cbb-290b-4415-fee8-a3e74267b30b",
        "colab": {
          "base_uri": "https://localhost:8080/",
          "height": 642
        }
      },
      "source": [
        "import onnx\n",
        "from onnx_tf.backend import prepare\n",
        "\n",
        "# Load the ONNX file\n",
        "model = onnx.load('mnist.onnx')\n",
        "\n",
        "# Import the ONNX model to Tensorflow\n",
        "tf_rep = prepare(model)"
      ],
      "execution_count": 20,
      "outputs": [
        {
          "output_type": "stream",
          "text": [
            "WARNING: Logging before flag parsing goes to stderr.\n",
            "W0708 15:26:24.762934 140509790529408 deprecation_wrapper.py:119] From /usr/local/lib/python3.6/dist-packages/onnx_tf/handlers/backend/ceil.py:10: The name tf.ceil is deprecated. Please use tf.math.ceil instead.\n",
            "\n",
            "W0708 15:26:24.769683 140509790529408 deprecation_wrapper.py:119] From /usr/local/lib/python3.6/dist-packages/onnx_tf/handlers/backend/depth_to_space.py:12: The name tf.depth_to_space is deprecated. Please use tf.compat.v1.depth_to_space instead.\n",
            "\n",
            "W0708 15:26:27.460662 140509790529408 lazy_loader.py:50] \n",
            "The TensorFlow contrib module will not be included in TensorFlow 2.0.\n",
            "For more information, please see:\n",
            "  * https://github.com/tensorflow/community/blob/master/rfcs/20180907-contrib-sunset.md\n",
            "  * https://github.com/tensorflow/addons\n",
            "  * https://github.com/tensorflow/io (for I/O related ops)\n",
            "If you depend on functionality not listed there, please file an issue.\n",
            "\n",
            "W0708 15:26:27.464477 140509790529408 deprecation_wrapper.py:119] From /usr/local/lib/python3.6/dist-packages/onnx_tf/handlers/backend/log.py:10: The name tf.log is deprecated. Please use tf.math.log instead.\n",
            "\n",
            "W0708 15:26:27.477252 140509790529408 deprecation_wrapper.py:119] From /usr/local/lib/python3.6/dist-packages/onnx_tf/handlers/backend/random_normal.py:9: The name tf.random_normal is deprecated. Please use tf.random.normal instead.\n",
            "\n",
            "W0708 15:26:27.483250 140509790529408 deprecation_wrapper.py:119] From /usr/local/lib/python3.6/dist-packages/onnx_tf/handlers/backend/random_uniform.py:9: The name tf.random_uniform is deprecated. Please use tf.random.uniform instead.\n",
            "\n",
            "W0708 15:26:27.498628 140509790529408 deprecation_wrapper.py:119] From /usr/local/lib/python3.6/dist-packages/onnx_tf/handlers/backend/upsample.py:13: The name tf.image.resize_images is deprecated. Please use tf.image.resize instead.\n",
            "\n",
            "/usr/local/lib/python3.6/dist-packages/onnx_tf/common/__init__.py:87: UserWarning: FrontendHandler.get_outputs_names is deprecated. It will be removed in future release.. Use node.outputs instead.\n",
            "  warnings.warn(message)\n",
            "/usr/local/lib/python3.6/dist-packages/onnx_tf/common/handler_helper.py:73: UserWarning: Unknown op ConstantFill in domain `ai.onnx`.\n",
            "  handler.ONNX_OP, handler.DOMAIN or \"ai.onnx\"))\n",
            "/usr/local/lib/python3.6/dist-packages/onnx_tf/common/handler_helper.py:73: UserWarning: Unknown op ConstantLike in domain `ai.onnx`.\n",
            "  handler.ONNX_OP, handler.DOMAIN or \"ai.onnx\"))\n",
            "/usr/local/lib/python3.6/dist-packages/onnx_tf/common/handler_helper.py:73: UserWarning: Unknown op DynamicSlice in domain `ai.onnx`.\n",
            "  handler.ONNX_OP, handler.DOMAIN or \"ai.onnx\"))\n",
            "/usr/local/lib/python3.6/dist-packages/onnx_tf/common/handler_helper.py:73: UserWarning: Unknown op ImageScaler in domain `ai.onnx`.\n",
            "  handler.ONNX_OP, handler.DOMAIN or \"ai.onnx\"))\n",
            "/usr/local/lib/python3.6/dist-packages/onnx_tf/common/handler_helper.py:70: UserWarning: Fail to get since_version of ThresholdedRelu in domain `` with max_inclusive_version=9. Set to 1.\n",
            "  handler.ONNX_OP, handler.DOMAIN, version))\n",
            "W0708 15:26:27.722162 140509790529408 deprecation.py:323] From /usr/local/lib/python3.6/dist-packages/onnx_tf/handlers/backend/gemm.py:14: flatten (from tensorflow.python.layers.core) is deprecated and will be removed in a future version.\n",
            "Instructions for updating:\n",
            "Use keras.layers.flatten instead.\n"
          ],
          "name": "stderr"
        }
      ]
    },
    {
      "cell_type": "code",
      "metadata": {
        "id": "_-oCxGutp867",
        "colab_type": "code",
        "outputId": "7109ca24-32b2-42e9-ef5a-8f16a5ba0f87",
        "colab": {
          "base_uri": "https://localhost:8080/",
          "height": 104
        }
      },
      "source": [
        "# Input nodes to the model\n",
        "print('inputs:', tf_rep.inputs)\n",
        "\n",
        "# Output nodes from the model\n",
        "print('outputs:', tf_rep.outputs)\n",
        "\n",
        "# All nodes in the model\n",
        "print('tensor_dict:')\n",
        "print(tf_rep.tensor_dict)"
      ],
      "execution_count": 21,
      "outputs": [
        {
          "output_type": "stream",
          "text": [
            "inputs: ['input.1']\n",
            "outputs: ['11']\n",
            "tensor_dict:\n",
            "{'linear1.bias': <tf.Tensor 'Const:0' shape=(125,) dtype=float32>, 'linear1.weight': <tf.Tensor 'Const_1:0' shape=(125, 784) dtype=float32>, 'linear2.bias': <tf.Tensor 'Const_2:0' shape=(65,) dtype=float32>, 'linear2.weight': <tf.Tensor 'Const_3:0' shape=(65, 125) dtype=float32>, 'linear3.bias': <tf.Tensor 'Const_4:0' shape=(10,) dtype=float32>, 'linear3.weight': <tf.Tensor 'Const_5:0' shape=(10, 65) dtype=float32>, 'input.1': <tf.Tensor 'input.1:0' shape=(1, 784) dtype=float32>, '7': <tf.Tensor 'add:0' shape=(1, 125) dtype=float32>, '8': <tf.Tensor 'Relu:0' shape=(1, 125) dtype=float32>, '9': <tf.Tensor 'add_1:0' shape=(1, 65) dtype=float32>, '10': <tf.Tensor 'Relu_1:0' shape=(1, 65) dtype=float32>, '11': <tf.Tensor 'add_2:0' shape=(1, 10) dtype=float32>}\n"
          ],
          "name": "stdout"
        }
      ]
    },
    {
      "cell_type": "code",
      "metadata": {
        "id": "7j4K7wwJqMkD",
        "colab_type": "code",
        "colab": {}
      },
      "source": [
        "tf_rep.export_graph('mnist.pb')"
      ],
      "execution_count": 0,
      "outputs": []
    },
    {
      "cell_type": "code",
      "metadata": {
        "id": "3fMSCEdxqXmL",
        "colab_type": "code",
        "colab": {}
      },
      "source": [
        "from tensorflow.python.tools import freeze_graph, optimize_for_inference_lib"
      ],
      "execution_count": 0,
      "outputs": []
    },
    {
      "cell_type": "code",
      "metadata": {
        "id": "Ki4Viw6JqkTh",
        "colab_type": "code",
        "colab": {}
      },
      "source": [
        "import tensorflow as tf\n",
        "\n",
        "# Input Graph Definition\n",
        "input_graph_def = tf.GraphDef()"
      ],
      "execution_count": 0,
      "outputs": []
    },
    {
      "cell_type": "code",
      "metadata": {
        "id": "fHR8z8xTqnzk",
        "colab_type": "code",
        "colab": {}
      },
      "source": [
        "# Optimize Frozen Model for Inference\n",
        "# Open \"frozen_linear_regression.pb\" model\n",
        "with tf.gfile.Open('mnist.pb', 'rb') as f:\n",
        "    # Read data from frozen model file\n",
        "    data = f.read()\n",
        "    # Parse model data from \"data\"\n",
        "    input_graph_def.ParseFromString(data)"
      ],
      "execution_count": 0,
      "outputs": []
    },
    {
      "cell_type": "code",
      "metadata": {
        "id": "ZahrUpPlqxAR",
        "colab_type": "code",
        "outputId": "1a9b8094-a1ca-420f-ed78-07d9be5cd6be",
        "colab": {
          "base_uri": "https://localhost:8080/",
          "height": 138
        }
      },
      "source": [
        "output_graph_def = optimize_for_inference_lib.optimize_for_inference(input_graph_def=input_graph_def,\n",
        "                                                                     input_node_names=[\"input.1\"],\n",
        "                                                                     output_node_names=['add'],\n",
        "                                                                     placeholder_type_enum=tf.float32.as_datatype_enum)"
      ],
      "execution_count": 26,
      "outputs": [
        {
          "output_type": "stream",
          "text": [
            "W0708 15:26:40.664036 140509790529408 deprecation.py:323] From /usr/local/lib/python3.6/dist-packages/tensorflow/python/tools/strip_unused_lib.py:86: extract_sub_graph (from tensorflow.python.framework.graph_util_impl) is deprecated and will be removed in a future version.\n",
            "Instructions for updating:\n",
            "Use `tf.compat.v1.graph_util.extract_sub_graph`\n",
            "W0708 15:26:40.671449 140509790529408 deprecation.py:323] From /usr/local/lib/python3.6/dist-packages/tensorflow/python/tools/optimize_for_inference_lib.py:113: remove_training_nodes (from tensorflow.python.framework.graph_util_impl) is deprecated and will be removed in a future version.\n",
            "Instructions for updating:\n",
            "Use `tf.compat.v1.graph_util.remove_training_nodes`\n"
          ],
          "name": "stderr"
        }
      ]
    },
    {
      "cell_type": "code",
      "metadata": {
        "id": "BugX0UMKq8A_",
        "colab_type": "code",
        "outputId": "8c5384c9-cfc8-47bb-8292-36e7fd464b5a",
        "colab": {
          "base_uri": "https://localhost:8080/",
          "height": 87
        }
      },
      "source": [
        "file = tf.gfile.FastGFile(name=\"optimized_mnist_model.pb\",\n",
        "                          mode='w')"
      ],
      "execution_count": 27,
      "outputs": [
        {
          "output_type": "stream",
          "text": [
            "W0708 15:26:43.318973 140509790529408 deprecation.py:323] From <ipython-input-27-5a31a5c25665>:2: FastGFile.__init__ (from tensorflow.python.platform.gfile) is deprecated and will be removed in a future version.\n",
            "Instructions for updating:\n",
            "Use tf.gfile.GFile.\n"
          ],
          "name": "stderr"
        }
      ]
    },
    {
      "cell_type": "code",
      "metadata": {
        "id": "faWe_-F0szUS",
        "colab_type": "code",
        "outputId": "d11a02bc-6424-4a36-f677-cef58e8792e2",
        "colab": {
          "base_uri": "https://localhost:8080/",
          "height": 34
        }
      },
      "source": [
        "# Save the optimized graph def as an optimized frozen model\n",
        "file.write(file_content=output_graph_def.SerializeToString())\n",
        "\n",
        "print(\"Optimized Model Saved at ./optimized_mnist_model.pb\")"
      ],
      "execution_count": 28,
      "outputs": [
        {
          "output_type": "stream",
          "text": [
            "Optimized Model Saved at ./optimized_mnist_model.pb\n"
          ],
          "name": "stdout"
        }
      ]
    },
    {
      "cell_type": "code",
      "metadata": {
        "id": "-26jd3LRs4AX",
        "colab_type": "code",
        "colab": {}
      },
      "source": [
        "# Convert Frozen Model to TFLite Model\n",
        "converter = tf.lite.TFLiteConverter.from_frozen_graph(graph_def_file=\"mnist.pb\",\n",
        "                                                      input_arrays=[\"input.1\"],\n",
        "                                                      output_arrays=['add'],\n",
        "                                                      input_shapes={'input.1': [1, 784]})"
      ],
      "execution_count": 0,
      "outputs": []
    },
    {
      "cell_type": "code",
      "metadata": {
        "id": "_yYrq2TftDCk",
        "colab_type": "code",
        "outputId": "2c87ce6c-340e-48d5-9cf0-933615656f8b",
        "colab": {
          "base_uri": "https://localhost:8080/",
          "height": 87
        }
      },
      "source": [
        "# Quantize Trained Model\n",
        "converter.post_training_quantize = True\n",
        "\n",
        "# Convert Frozen Model to TFLite Model\n",
        "tflite_model = converter.convert()\n",
        "\n",
        "# Save TFLite Model\n",
        "open(\"optimized_mnist_model.tflite\", \"wb\").write(tflite_model)\n",
        "\n",
        "print(\"Optimized TFLite Model Saved at optimized_mnist_model.tflite\")"
      ],
      "execution_count": 30,
      "outputs": [
        {
          "output_type": "stream",
          "text": [
            "/usr/local/lib/python3.6/dist-packages/tensorflow/lite/python/lite.py:769: UserWarning: Property post_training_quantize is deprecated, please use optimizations=[Optimize.DEFAULT] instead.\n",
            "  \" instead.\" % name)\n"
          ],
          "name": "stderr"
        },
        {
          "output_type": "stream",
          "text": [
            "Optimized TFLite Model Saved at optimized_mnist_model.tflite\n"
          ],
          "name": "stdout"
        }
      ]
    },
    {
      "cell_type": "code",
      "metadata": {
        "id": "q4Y9TMdKMxh-",
        "colab_type": "code",
        "colab": {}
      },
      "source": [
        ""
      ],
      "execution_count": 0,
      "outputs": []
    }
  ]
}